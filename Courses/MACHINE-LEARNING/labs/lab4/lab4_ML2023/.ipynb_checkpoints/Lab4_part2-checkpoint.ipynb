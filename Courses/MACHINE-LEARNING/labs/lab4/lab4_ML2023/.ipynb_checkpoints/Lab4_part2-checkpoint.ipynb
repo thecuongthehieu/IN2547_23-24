{
 "cells": [
  {
   "cell_type": "markdown",
   "metadata": {},
   "source": [
    "#  Neural Networks: Regression on House Pricing Dataset\n",
    "We consider a reduced version of a dataset containing house sale prices for King County, which includes Seattle. It includes homes sold between May 2014 and May 2015.\n",
    "\n",
    "https://www.kaggle.com/harlfoxem/housesalesprediction\n",
    "\n",
    "For each house we know 18 house features (e.g., number of bedrooms, number of bathrooms, etc.) plus its price, that is what we would like to predict."
   ]
  },
  {
   "cell_type": "code",
   "execution_count": 4,
   "metadata": {},
   "outputs": [],
   "source": [
    "#put here your ``numero di matricola''\n",
    "numero_di_matricola = 1 # COMPLETE"
   ]
  },
  {
   "cell_type": "markdown",
   "metadata": {},
   "source": [
    "## Insert your ID number (\"numero di matricola\") below"
   ]
  },
  {
   "cell_type": "code",
   "execution_count": 5,
   "metadata": {},
   "outputs": [],
   "source": [
    "#put here your ``numero di matricola''\n",
    "numero_di_matricola = 1 # COMPLETE"
   ]
  },
  {
   "cell_type": "code",
   "execution_count": 6,
   "metadata": {},
   "outputs": [],
   "source": [
    "#import all packages needed\n",
    "%matplotlib inline\n",
    "import pandas as pd\n",
    "import numpy as np\n",
    "import matplotlib.pyplot as plt"
   ]
  },
  {
   "cell_type": "markdown",
   "metadata": {},
   "source": [
    "Load the data, remove data samples/points with missing values (NaN) and take a look at them."
   ]
  },
  {
   "cell_type": "code",
   "execution_count": 7,
   "metadata": {},
   "outputs": [
    {
     "data": {
      "text/html": [
       "<div>\n",
       "<style scoped>\n",
       "    .dataframe tbody tr th:only-of-type {\n",
       "        vertical-align: middle;\n",
       "    }\n",
       "\n",
       "    .dataframe tbody tr th {\n",
       "        vertical-align: top;\n",
       "    }\n",
       "\n",
       "    .dataframe thead th {\n",
       "        text-align: right;\n",
       "    }\n",
       "</style>\n",
       "<table border=\"1\" class=\"dataframe\">\n",
       "  <thead>\n",
       "    <tr style=\"text-align: right;\">\n",
       "      <th></th>\n",
       "      <th>id</th>\n",
       "      <th>price</th>\n",
       "      <th>bedrooms</th>\n",
       "      <th>bathrooms</th>\n",
       "      <th>sqft_living</th>\n",
       "      <th>sqft_lot</th>\n",
       "      <th>floors</th>\n",
       "      <th>waterfront</th>\n",
       "      <th>view</th>\n",
       "      <th>condition</th>\n",
       "      <th>grade</th>\n",
       "      <th>sqft_above</th>\n",
       "      <th>sqft_basement</th>\n",
       "      <th>yr_built</th>\n",
       "      <th>yr_renovated</th>\n",
       "      <th>zipcode</th>\n",
       "      <th>lat</th>\n",
       "      <th>long</th>\n",
       "      <th>sqft_living15</th>\n",
       "      <th>sqft_lot15</th>\n",
       "    </tr>\n",
       "  </thead>\n",
       "  <tbody>\n",
       "    <tr>\n",
       "      <th>count</th>\n",
       "      <td>3.164000e+03</td>\n",
       "      <td>3.164000e+03</td>\n",
       "      <td>3164.000000</td>\n",
       "      <td>3164.000000</td>\n",
       "      <td>3164.000000</td>\n",
       "      <td>3.164000e+03</td>\n",
       "      <td>3164.000000</td>\n",
       "      <td>3164.000000</td>\n",
       "      <td>3164.000000</td>\n",
       "      <td>3164.000000</td>\n",
       "      <td>3164.000000</td>\n",
       "      <td>3164.000000</td>\n",
       "      <td>3164.000000</td>\n",
       "      <td>3164.000000</td>\n",
       "      <td>3164.000000</td>\n",
       "      <td>3164.000000</td>\n",
       "      <td>3164.000000</td>\n",
       "      <td>3164.000000</td>\n",
       "      <td>3164.000000</td>\n",
       "      <td>3164.000000</td>\n",
       "    </tr>\n",
       "    <tr>\n",
       "      <th>mean</th>\n",
       "      <td>4.645240e+09</td>\n",
       "      <td>5.354358e+05</td>\n",
       "      <td>3.381163</td>\n",
       "      <td>2.071903</td>\n",
       "      <td>2070.027813</td>\n",
       "      <td>1.525054e+04</td>\n",
       "      <td>1.434893</td>\n",
       "      <td>0.009798</td>\n",
       "      <td>0.244311</td>\n",
       "      <td>3.459229</td>\n",
       "      <td>7.615676</td>\n",
       "      <td>1761.252212</td>\n",
       "      <td>308.775601</td>\n",
       "      <td>1967.489254</td>\n",
       "      <td>94.668774</td>\n",
       "      <td>98077.125158</td>\n",
       "      <td>47.557868</td>\n",
       "      <td>-122.212337</td>\n",
       "      <td>1982.544564</td>\n",
       "      <td>13176.302465</td>\n",
       "    </tr>\n",
       "    <tr>\n",
       "      <th>std</th>\n",
       "      <td>2.854203e+09</td>\n",
       "      <td>3.809004e+05</td>\n",
       "      <td>0.895472</td>\n",
       "      <td>0.768212</td>\n",
       "      <td>920.251879</td>\n",
       "      <td>4.254457e+04</td>\n",
       "      <td>0.507792</td>\n",
       "      <td>0.098513</td>\n",
       "      <td>0.776298</td>\n",
       "      <td>0.682592</td>\n",
       "      <td>1.166324</td>\n",
       "      <td>815.934864</td>\n",
       "      <td>458.977904</td>\n",
       "      <td>28.095275</td>\n",
       "      <td>424.439427</td>\n",
       "      <td>54.172937</td>\n",
       "      <td>0.140789</td>\n",
       "      <td>0.139577</td>\n",
       "      <td>686.256670</td>\n",
       "      <td>25413.180755</td>\n",
       "    </tr>\n",
       "    <tr>\n",
       "      <th>min</th>\n",
       "      <td>1.000102e+06</td>\n",
       "      <td>7.500000e+04</td>\n",
       "      <td>0.000000</td>\n",
       "      <td>0.000000</td>\n",
       "      <td>380.000000</td>\n",
       "      <td>6.490000e+02</td>\n",
       "      <td>1.000000</td>\n",
       "      <td>0.000000</td>\n",
       "      <td>0.000000</td>\n",
       "      <td>1.000000</td>\n",
       "      <td>3.000000</td>\n",
       "      <td>380.000000</td>\n",
       "      <td>0.000000</td>\n",
       "      <td>1900.000000</td>\n",
       "      <td>0.000000</td>\n",
       "      <td>98001.000000</td>\n",
       "      <td>47.177500</td>\n",
       "      <td>-122.514000</td>\n",
       "      <td>620.000000</td>\n",
       "      <td>660.000000</td>\n",
       "    </tr>\n",
       "    <tr>\n",
       "      <th>25%</th>\n",
       "      <td>2.199775e+09</td>\n",
       "      <td>3.150000e+05</td>\n",
       "      <td>3.000000</td>\n",
       "      <td>1.500000</td>\n",
       "      <td>1430.000000</td>\n",
       "      <td>5.453750e+03</td>\n",
       "      <td>1.000000</td>\n",
       "      <td>0.000000</td>\n",
       "      <td>0.000000</td>\n",
       "      <td>3.000000</td>\n",
       "      <td>7.000000</td>\n",
       "      <td>1190.000000</td>\n",
       "      <td>0.000000</td>\n",
       "      <td>1950.000000</td>\n",
       "      <td>0.000000</td>\n",
       "      <td>98032.000000</td>\n",
       "      <td>47.459575</td>\n",
       "      <td>-122.324250</td>\n",
       "      <td>1480.000000</td>\n",
       "      <td>5429.500000</td>\n",
       "    </tr>\n",
       "    <tr>\n",
       "      <th>50%</th>\n",
       "      <td>4.027701e+09</td>\n",
       "      <td>4.450000e+05</td>\n",
       "      <td>3.000000</td>\n",
       "      <td>2.000000</td>\n",
       "      <td>1910.000000</td>\n",
       "      <td>8.000000e+03</td>\n",
       "      <td>1.000000</td>\n",
       "      <td>0.000000</td>\n",
       "      <td>0.000000</td>\n",
       "      <td>3.000000</td>\n",
       "      <td>7.000000</td>\n",
       "      <td>1545.000000</td>\n",
       "      <td>0.000000</td>\n",
       "      <td>1969.000000</td>\n",
       "      <td>0.000000</td>\n",
       "      <td>98059.000000</td>\n",
       "      <td>47.572500</td>\n",
       "      <td>-122.226000</td>\n",
       "      <td>1830.000000</td>\n",
       "      <td>7873.000000</td>\n",
       "    </tr>\n",
       "    <tr>\n",
       "      <th>75%</th>\n",
       "      <td>7.358175e+09</td>\n",
       "      <td>6.402500e+05</td>\n",
       "      <td>4.000000</td>\n",
       "      <td>2.500000</td>\n",
       "      <td>2500.000000</td>\n",
       "      <td>1.122250e+04</td>\n",
       "      <td>2.000000</td>\n",
       "      <td>0.000000</td>\n",
       "      <td>0.000000</td>\n",
       "      <td>4.000000</td>\n",
       "      <td>8.000000</td>\n",
       "      <td>2150.000000</td>\n",
       "      <td>600.000000</td>\n",
       "      <td>1990.000000</td>\n",
       "      <td>0.000000</td>\n",
       "      <td>98117.000000</td>\n",
       "      <td>47.680250</td>\n",
       "      <td>-122.124000</td>\n",
       "      <td>2360.000000</td>\n",
       "      <td>10408.250000</td>\n",
       "    </tr>\n",
       "    <tr>\n",
       "      <th>max</th>\n",
       "      <td>9.839301e+09</td>\n",
       "      <td>5.350000e+06</td>\n",
       "      <td>8.000000</td>\n",
       "      <td>6.000000</td>\n",
       "      <td>8010.000000</td>\n",
       "      <td>1.651359e+06</td>\n",
       "      <td>3.500000</td>\n",
       "      <td>1.000000</td>\n",
       "      <td>4.000000</td>\n",
       "      <td>5.000000</td>\n",
       "      <td>12.000000</td>\n",
       "      <td>6720.000000</td>\n",
       "      <td>2620.000000</td>\n",
       "      <td>2015.000000</td>\n",
       "      <td>2015.000000</td>\n",
       "      <td>98199.000000</td>\n",
       "      <td>47.777600</td>\n",
       "      <td>-121.315000</td>\n",
       "      <td>5790.000000</td>\n",
       "      <td>425581.000000</td>\n",
       "    </tr>\n",
       "  </tbody>\n",
       "</table>\n",
       "</div>"
      ],
      "text/plain": [
       "                 id         price     bedrooms    bathrooms  sqft_living  \\\n",
       "count  3.164000e+03  3.164000e+03  3164.000000  3164.000000  3164.000000   \n",
       "mean   4.645240e+09  5.354358e+05     3.381163     2.071903  2070.027813   \n",
       "std    2.854203e+09  3.809004e+05     0.895472     0.768212   920.251879   \n",
       "min    1.000102e+06  7.500000e+04     0.000000     0.000000   380.000000   \n",
       "25%    2.199775e+09  3.150000e+05     3.000000     1.500000  1430.000000   \n",
       "50%    4.027701e+09  4.450000e+05     3.000000     2.000000  1910.000000   \n",
       "75%    7.358175e+09  6.402500e+05     4.000000     2.500000  2500.000000   \n",
       "max    9.839301e+09  5.350000e+06     8.000000     6.000000  8010.000000   \n",
       "\n",
       "           sqft_lot       floors   waterfront         view    condition  \\\n",
       "count  3.164000e+03  3164.000000  3164.000000  3164.000000  3164.000000   \n",
       "mean   1.525054e+04     1.434893     0.009798     0.244311     3.459229   \n",
       "std    4.254457e+04     0.507792     0.098513     0.776298     0.682592   \n",
       "min    6.490000e+02     1.000000     0.000000     0.000000     1.000000   \n",
       "25%    5.453750e+03     1.000000     0.000000     0.000000     3.000000   \n",
       "50%    8.000000e+03     1.000000     0.000000     0.000000     3.000000   \n",
       "75%    1.122250e+04     2.000000     0.000000     0.000000     4.000000   \n",
       "max    1.651359e+06     3.500000     1.000000     4.000000     5.000000   \n",
       "\n",
       "             grade   sqft_above  sqft_basement     yr_built  yr_renovated  \\\n",
       "count  3164.000000  3164.000000    3164.000000  3164.000000   3164.000000   \n",
       "mean      7.615676  1761.252212     308.775601  1967.489254     94.668774   \n",
       "std       1.166324   815.934864     458.977904    28.095275    424.439427   \n",
       "min       3.000000   380.000000       0.000000  1900.000000      0.000000   \n",
       "25%       7.000000  1190.000000       0.000000  1950.000000      0.000000   \n",
       "50%       7.000000  1545.000000       0.000000  1969.000000      0.000000   \n",
       "75%       8.000000  2150.000000     600.000000  1990.000000      0.000000   \n",
       "max      12.000000  6720.000000    2620.000000  2015.000000   2015.000000   \n",
       "\n",
       "            zipcode          lat         long  sqft_living15     sqft_lot15  \n",
       "count   3164.000000  3164.000000  3164.000000    3164.000000    3164.000000  \n",
       "mean   98077.125158    47.557868  -122.212337    1982.544564   13176.302465  \n",
       "std       54.172937     0.140789     0.139577     686.256670   25413.180755  \n",
       "min    98001.000000    47.177500  -122.514000     620.000000     660.000000  \n",
       "25%    98032.000000    47.459575  -122.324250    1480.000000    5429.500000  \n",
       "50%    98059.000000    47.572500  -122.226000    1830.000000    7873.000000  \n",
       "75%    98117.000000    47.680250  -122.124000    2360.000000   10408.250000  \n",
       "max    98199.000000    47.777600  -121.315000    5790.000000  425581.000000  "
      ]
     },
     "execution_count": 7,
     "metadata": {},
     "output_type": "execute_result"
    }
   ],
   "source": [
    "#load the data\n",
    "df = pd.read_csv('kc_house_data.csv', sep = ',')\n",
    "\n",
    "#remove the data samples with missing values (NaN)\n",
    "df = df.dropna() \n",
    "\n",
    "df.describe()"
   ]
  },
  {
   "cell_type": "markdown",
   "metadata": {},
   "source": [
    "Extract input and output data. We want to predict the price by using features other than id as input."
   ]
  },
  {
   "cell_type": "code",
   "execution_count": 8,
   "metadata": {},
   "outputs": [
    {
     "name": "stdout",
     "output_type": "stream",
     "text": [
      "Amount of data: 3164\n"
     ]
    }
   ],
   "source": [
    "Data = df.values\n",
    "# m = number of input samples\n",
    "m = Data.shape[0]\n",
    "print(\"Amount of data:\",m)\n",
    "Y = Data[:m,2]\n",
    "X = Data[:m,3:]"
   ]
  },
  {
   "cell_type": "markdown",
   "metadata": {},
   "source": [
    "## Data Pre-Processing\n",
    "\n",
    "We split the data into 3 parts: one will be used for training and choosing the parameters, one for choosing among different models, and one for testing. The part for training and choosing the parameters will consist of $2/3$ of all samples, the one for choosing among different models will consist of $1/6$ of all samples, while the other part consists of the remaining $1/6$-th of all samples."
   ]
  },
  {
   "cell_type": "code",
   "execution_count": 9,
   "metadata": {},
   "outputs": [
    {
     "name": "stdout",
     "output_type": "stream",
     "text": [
      "Amount of data for training and deciding parameters: 2109\n",
      "Amount of data for validation (choosing among different models): 527\n",
      "Amount of data for test: 528\n"
     ]
    }
   ],
   "source": [
    "# Split data into train (2/3 of samples), validation (1/6 of samples), and test data (the rest)\n",
    "m_train = int(2./3.*m)\n",
    "m_val = int((m-m_train)/2.)\n",
    "m_test = m - m_train - m_val\n",
    "print(\"Amount of data for training and deciding parameters:\",m_train)\n",
    "print(\"Amount of data for validation (choosing among different models):\",m_val)\n",
    "print(\"Amount of data for test:\",m_test)\n",
    "from sklearn.model_selection import train_test_split\n",
    "\n",
    "Xtrain_and_val, Xtest, Ytrain_and_val, Ytest = train_test_split(X, Y, test_size=m_test/m, random_state=numero_di_matricola)\n",
    "Xtrain, Xval, Ytrain, Yval = train_test_split(Xtrain_and_val, Ytrain_and_val, test_size=m_val/(m_train+m_val), random_state=numero_di_matricola)"
   ]
  },
  {
   "cell_type": "markdown",
   "metadata": {},
   "source": [
    "Let's standardize the data."
   ]
  },
  {
   "cell_type": "code",
   "execution_count": 10,
   "metadata": {},
   "outputs": [],
   "source": [
    "# Data pre-processing\n",
    "from sklearn import preprocessing\n",
    "scaler = preprocessing.StandardScaler().fit(Xtrain)\n",
    "Xtrain_scaled = scaler.transform(Xtrain)\n",
    "Xtrain_and_val_scaled = scaler.transform(Xtrain_and_val)\n",
    "Xval_scaled = scaler.transform(Xval)\n",
    "Xtest_scaled = scaler.transform(Xtest)"
   ]
  },
  {
   "cell_type": "markdown",
   "metadata": {},
   "source": [
    "## Neural Networks\n",
    "Let's start by learning a simple neural network with 1 hidden node.\n",
    "Note: we are going to use the input parameter solver='lbfgs' and random_state=numero_di_matricola to fix the random seed (so results are reproducible)."
   ]
  },
  {
   "cell_type": "code",
   "execution_count": 27,
   "metadata": {},
   "outputs": [
    {
     "name": "stdout",
     "output_type": "stream",
     "text": [
      "1 - coeff. det . on training data:  0.2639482116105869\n",
      "1 - coeff. det . on validation data:  0.30404310575139526\n",
      "[array([[-214.49081927],\n",
      "       [ 269.34774432],\n",
      "       [ 523.82886439],\n",
      "       [ -60.60391642],\n",
      "       [   4.05441846],\n",
      "       [ 711.37704205],\n",
      "       [ 294.441509  ],\n",
      "       [ 136.41560135],\n",
      "       [ 816.48639362],\n",
      "       [ 493.15032908],\n",
      "       [ 163.77462933],\n",
      "       [-582.44371461],\n",
      "       [  38.05085714],\n",
      "       [-203.65505977],\n",
      "       [ 600.33405532],\n",
      "       [-142.13940094],\n",
      "       [ 147.24870204],\n",
      "       [ -26.83220698]]), array([[141.06999845]])]\n",
      "[array([3795.98702581]), array([-46.74557176])]\n"
     ]
    }
   ],
   "source": [
    "#let's load the MLPRegressor\n",
    "\n",
    "#COMPLETE\n",
    "from sklearn.neural_network import MLPRegressor\n",
    "\n",
    "#let's define the model\n",
    "#COMPLETE\n",
    "mlp = MLPRegressor(hidden_layer_sizes=(1, ), solver='lbfgs', random_state=numero_di_matricola)\n",
    "\n",
    "#let's learn the model on training data\n",
    "#COMPLETE\n",
    "mlp.fit(Xtrain_scaled, Ytrain)\n",
    "\n",
    "#let's print the error (1 - R^2) on training data\n",
    "#COMPLETE\n",
    "print('1 - coeff. det . on training data: ', 1 - mlp.score(Xtrain_scaled, Ytrain))\n",
    "\n",
    "#let's print the error (1 - R^2) on validation data\n",
    "#COMPLETE\n",
    "print('1 - coeff. det . on validation data: ', 1 - mlp.score(Xval_scaled, Yval))\n",
    "\n",
    "#let's print the coefficients of the model for the input nodes (but not the bias)\n",
    "#COMPLETE\n",
    "print(mlp.coefs_)\n",
    "\n",
    "#let's print the coefficient for the bias (i.e., the bias)\n",
    "#COMPLETE\n",
    "print(mlp.intercepts_)"
   ]
  },
  {
   "cell_type": "markdown",
   "metadata": {},
   "source": [
    "## Neural Networks vs Linear Models\n",
    "\n",
    "Let's learn a linear model on the other same data and compare the results with the simple NN above."
   ]
  },
  {
   "cell_type": "code",
   "execution_count": 45,
   "metadata": {},
   "outputs": [
    {
     "name": "stdout",
     "output_type": "stream",
     "text": [
      "1 - coeff. det . on training data:  0.2653969509619678\n",
      "1 - coeff. det . on validation data:  0.3114459994953467\n",
      "[-3.09016415e+04  3.72213451e+04 -1.80881481e+18 -8.04992508e+03\n",
      "  8.45248021e+02  9.97766293e+04  4.21522813e+04  1.94768419e+04\n",
      "  1.11098046e+05  1.62589249e+18  8.95778583e+17 -7.81279023e+04\n",
      "  6.55645701e+03 -2.86129749e+04  8.33712210e+04 -2.19620451e+04\n",
      "  2.18873871e+04 -1.69005802e+03]\n",
      "536923.1420565507\n"
     ]
    }
   ],
   "source": [
    "#COMPLETE\n",
    "from sklearn.linear_model import LinearRegression\n",
    "\n",
    "LR = LinearRegression().fit(Xtrain_scaled, Ytrain)\n",
    "\n",
    "#let's print the error (1 - R^2) on training data\n",
    "#COMPLETE\n",
    "print('1 - coeff. det . on training data: ', 1 - LR.score(Xtrain_scaled, Ytrain))\n",
    "\n",
    "#let's print the error (1 - R^2) on validation data\n",
    "#COMPLETE\n",
    "print('1 - coeff. det . on validation data: ', 1 - LR.score(Xval_scaled, Yval))\n",
    "\n",
    "print(LR.coef_)\n",
    "print(LR.intercept_)"
   ]
  },
  {
   "cell_type": "markdown",
   "metadata": {},
   "source": [
    "Is there a way to make a NN network learn a linear model?\n",
    "\n",
    "Let's first check what is the loss used by MLPRegressor..."
   ]
  },
  {
   "cell_type": "code",
   "execution_count": 46,
   "metadata": {},
   "outputs": [
    {
     "name": "stdout",
     "output_type": "stream",
     "text": [
      "1 - coeff. det . on training data:  0.26535942166590454\n",
      "1 - coeff. det . on validation data:  0.31153906582827584\n",
      "[array([[  51.55070235],\n",
      "       [ -59.02846704],\n",
      "       [-122.96939596],\n",
      "       [  13.19466306],\n",
      "       [  -1.10694448],\n",
      "       [-165.016906  ],\n",
      "       [ -68.62491747],\n",
      "       [ -32.12596414],\n",
      "       [-183.34020234],\n",
      "       [-114.96558392],\n",
      "       [ -38.51551396],\n",
      "       [ 128.83877577],\n",
      "       [ -10.76237595],\n",
      "       [  46.43749972],\n",
      "       [-137.83874569],\n",
      "       [  35.64844107],\n",
      "       [ -36.32214078],\n",
      "       [   3.29740834]]), array([[-607.24280969]])]\n",
      "[array([-883.44724722]), array([365.29153421])]\n",
      "[536832.28014443]\n"
     ]
    }
   ],
   "source": [
    "#let's write the code to learn a linear model with NN: how? \n",
    "\n",
    "#COMPLETE\n",
    "#let's define the model\n",
    "#COMPLETE\n",
    "mlp = MLPRegressor(hidden_layer_sizes=(1, ), activation='identity', solver='lbfgs', random_state=numero_di_matricola)\n",
    "\n",
    "#let's learn the model on training data\n",
    "#COMPLETE\n",
    "mlp.fit(Xtrain_scaled, Ytrain)\n",
    "\n",
    "#let's print the error (1 - R^2) on training data\n",
    "#COMPLETE\n",
    "print('1 - coeff. det . on training data: ', 1 - mlp.score(Xtrain_scaled, Ytrain))\n",
    "\n",
    "#let's print the error (1 - R^2) on validation data\n",
    "#COMPLETE\n",
    "print('1 - coeff. det . on validation data: ', 1 - mlp.score(Xval_scaled, Yval))\n",
    "\n",
    "#let's print the coefficients of the model for the input nodes (but not the bias)\n",
    "#COMPLETE\n",
    "print(mlp.coefs_)\n",
    "\n",
    "#let's print the coefficient for the bias (i.e., the bias)\n",
    "#COMPLETE\n",
    "print(mlp.intercepts_)\n",
    "\n",
    "print(mlp.intercepts_[0] * mlp.coefs_[1][0] + mlp.intercepts_[1])"
   ]
  },
  {
   "cell_type": "markdown",
   "metadata": {},
   "source": [
    "Note that there is an $\\ell_2$ regularization term in MLPRegressor. What about making it smaller?"
   ]
  },
  {
   "cell_type": "code",
   "execution_count": 47,
   "metadata": {},
   "outputs": [
    {
     "name": "stdout",
     "output_type": "stream",
     "text": [
      "1 - coeff. det . on training data:  0.26535942166590454\n",
      "1 - coeff. det . on validation data:  0.31153906582851487\n",
      "[array([[  51.55070235],\n",
      "       [ -59.02846704],\n",
      "       [-122.96939596],\n",
      "       [  13.19466306],\n",
      "       [  -1.10694448],\n",
      "       [-165.016906  ],\n",
      "       [ -68.62491747],\n",
      "       [ -32.12596414],\n",
      "       [-183.34020234],\n",
      "       [-114.96558392],\n",
      "       [ -38.51551396],\n",
      "       [ 128.83877577],\n",
      "       [ -10.76237595],\n",
      "       [  46.43749972],\n",
      "       [-137.83874569],\n",
      "       [  35.64844107],\n",
      "       [ -36.32214078],\n",
      "       [   3.29740834]]), array([[-607.24280969]])]\n",
      "[array([-883.44724722]), array([365.29153421])]\n",
      "[536832.28014449]\n"
     ]
    }
   ],
   "source": [
    "#COMPLETE\n",
    "#let's define the model\n",
    "#COMPLETE\n",
    "mlp = MLPRegressor(hidden_layer_sizes=(1, ), alpha = 1e-20, activation='identity', solver='lbfgs', random_state=numero_di_matricola)\n",
    "\n",
    "#let's learn the model on training data\n",
    "#COMPLETE\n",
    "mlp.fit(Xtrain_scaled, Ytrain)\n",
    "\n",
    "#let's print the error (1 - R^2) on training data\n",
    "#COMPLETE\n",
    "print('1 - coeff. det . on training data: ', 1 - mlp.score(Xtrain_scaled, Ytrain))\n",
    "\n",
    "#let's print the error (1 - R^2) on validation data\n",
    "#COMPLETE\n",
    "print('1 - coeff. det . on validation data: ', 1 - mlp.score(Xval_scaled, Yval))\n",
    "\n",
    "#let's print the coefficients of the model for the input nodes (but not the bias)\n",
    "#COMPLETE\n",
    "print(mlp.coefs_)\n",
    "\n",
    "#let's print the coefficient for the bias (i.e., the bias)\n",
    "#COMPLETE\n",
    "print(mlp.intercepts_)\n",
    "\n",
    "print(mlp.intercepts_[0] * mlp.coefs_[1][0] + mlp.intercepts_[1])"
   ]
  },
  {
   "cell_type": "markdown",
   "metadata": {},
   "source": [
    "## More Complex NNs\n",
    "\n",
    "Let's try more complex NN, for example increasing the number of nodes in the only hidden layer, or increasing the number of hidden layers."
   ]
  },
  {
   "cell_type": "markdown",
   "metadata": {},
   "source": [
    "Let's build a NN with 2 nodes in the only hidden layer"
   ]
  },
  {
   "cell_type": "code",
   "execution_count": 51,
   "metadata": {},
   "outputs": [
    {
     "name": "stdout",
     "output_type": "stream",
     "text": [
      "1 - coeff. det . on training data:  0.18062114172657373\n",
      "1 - coeff. det . on validation data:  0.20724990144155586\n",
      "[array([[  90.99867771,  -33.34093043],\n",
      "       [ 120.49300958,   39.34069846],\n",
      "       [  85.7238307 ,   73.06308061],\n",
      "       [-261.55955178,   28.37385351],\n",
      "       [ -30.66987718,   17.93111066],\n",
      "       [ 198.56228048,   25.03379764],\n",
      "       [  34.83306838,   37.60090259],\n",
      "       [  96.94437676,   25.68938712],\n",
      "       [ 312.2315193 ,  132.89168262],\n",
      "       [  84.99771401,   68.85307025],\n",
      "       [  19.21897182,   23.37569403],\n",
      "       [-217.40482862,  -81.21080508],\n",
      "       [  -3.51111474,   20.13247288],\n",
      "       [-301.20358762,  -26.38366557],\n",
      "       [ 305.62880989,  144.62269907],\n",
      "       [-463.96000237,  -16.40085162],\n",
      "       [ 194.77151223,   52.80779901],\n",
      "       [-250.47944936,  -11.19727806]]), array([[614.54398196],\n",
      "       [548.79557382]])]\n",
      "[array([-1049.52536445,   897.58012988]), array([725.97068825])]\n",
      "[-644253.52594356  552328.43783128]\n"
     ]
    }
   ],
   "source": [
    "#let's build a NN with 2 nodes in the only hidden layer\n",
    "\n",
    "#COMPLETE\n",
    "mlp = MLPRegressor(hidden_layer_sizes=(2, ), solver='lbfgs', random_state=numero_di_matricola)\n",
    "\n",
    "#let's learn the model on training data\n",
    "#COMPLETE\n",
    "mlp.fit(Xtrain_scaled, Ytrain)\n",
    "\n",
    "#let's print the error (1 - R^2) on training data\n",
    "#COMPLETE\n",
    "print('1 - coeff. det . on training data: ', 1 - mlp.score(Xtrain_scaled, Ytrain))\n",
    "\n",
    "#let's print the error (1 - R^2) on validation data\n",
    "#COMPLETE\n",
    "print('1 - coeff. det . on validation data: ', 1 - mlp.score(Xval_scaled, Yval))\n",
    "\n",
    "#let's print the coefficients of the model for the input nodes (but not the bias)\n",
    "#COMPLETE\n",
    "print(mlp.coefs_)\n",
    "\n",
    "#let's print the coefficient for the bias (i.e., the bias)\n",
    "#COMPLETE\n",
    "print(mlp.intercepts_)\n",
    "\n",
    "print(mlp.intercepts_[0] * mlp.coefs_[1][0] + mlp.intercepts_[1])"
   ]
  },
  {
   "cell_type": "markdown",
   "metadata": {},
   "source": [
    "Let's build a NN with 5 nodes in the only hidden layer"
   ]
  },
  {
   "cell_type": "code",
   "execution_count": 52,
   "metadata": {},
   "outputs": [
    {
     "name": "stdout",
     "output_type": "stream",
     "text": [
      "1 - coeff. det . on training data:  0.16323993023061145\n",
      "1 - coeff. det . on validation data:  0.2153397226126772\n",
      "[array([[ -199.82731203,   170.00792189,    13.55684519,   173.221341  ,\n",
      "          -39.54992554],\n",
      "       [  277.22174633,   411.47892547,   157.87922525,   141.27783291,\n",
      "           14.26796802],\n",
      "       [ -404.7889196 ,   363.25816901,   280.69253054,  -312.03309165,\n",
      "          292.86382448],\n",
      "       [ -164.80145804,   -30.48158594,  -769.39567246,   111.99118031,\n",
      "           78.10012479],\n",
      "       [  873.8415717 ,  -959.84897174,   316.50883725,   -29.91675416,\n",
      "         -129.54103945],\n",
      "       [ -380.96149278,   721.41590305,   537.31702508,  -521.8875748 ,\n",
      "          -87.49342788],\n",
      "       [ -580.24992064,   689.12110726,    -7.75484136,  -471.89547593,\n",
      "          206.18194429],\n",
      "       [  106.12386733,   794.67618882,   183.74582743,   -20.72179237,\n",
      "           16.22547474],\n",
      "       [ -415.57986338,   705.82903597,   552.02679871,    82.89905898,\n",
      "          435.14017166],\n",
      "       [ -512.15146278,   599.5131713 ,   310.59163645,  -150.42326926,\n",
      "          244.99178247],\n",
      "       [  111.78877057,  -354.07988288,     2.9824729 ,  -358.46322501,\n",
      "          146.97515571],\n",
      "       [  567.6952876 ,  -321.22843228,  -355.84574737,  -286.33073837,\n",
      "         -328.00486867],\n",
      "       [   26.85698418,   993.97836631,  -462.72583247,  -629.32906652,\n",
      "           31.82617465],\n",
      "       [  372.22938965, -1380.4283502 ,  -539.67115979,  -168.56591121,\n",
      "         -108.93283239],\n",
      "       [ -494.99214949,   438.95369128,   826.28786329,   -11.5454646 ,\n",
      "          510.44696224],\n",
      "       [ -145.06918283,   871.43794703, -1380.00302886,   464.54903011,\n",
      "         -222.57428139],\n",
      "       [  496.78475574,   274.44372794,   393.84836456,     3.10892593,\n",
      "          105.50818456],\n",
      "       [   56.89801379,  -193.68148932,  -742.69405783,   264.61890232,\n",
      "         -165.2211509 ]]), array([[ 54.70487995],\n",
      "       [ 45.17877057],\n",
      "       [250.27077066],\n",
      "       [ 76.12856481],\n",
      "       [208.3938873 ]])]\n",
      "[array([ 1996.95048481, -1177.21867967, -2868.15784231,   235.4127057 ,\n",
      "        1458.56906215]), array([394.62262299])]\n",
      "[ 109637.55915606  -64004.98392038 -156507.60781158   13272.84642632\n",
      "   80185.46806352]\n"
     ]
    },
    {
     "name": "stderr",
     "output_type": "stream",
     "text": [
      "/Users/nguyencuong6873/anaconda3/envs/ml/lib/python3.11/site-packages/sklearn/neural_network/_multilayer_perceptron.py:546: ConvergenceWarning: lbfgs failed to converge (status=1):\n",
      "STOP: TOTAL NO. of ITERATIONS REACHED LIMIT.\n",
      "\n",
      "Increase the number of iterations (max_iter) or scale the data as shown in:\n",
      "    https://scikit-learn.org/stable/modules/preprocessing.html\n",
      "  self.n_iter_ = _check_optimize_result(\"lbfgs\", opt_res, self.max_iter)\n"
     ]
    }
   ],
   "source": [
    "#let's build a NN with 5 nodes in the only hidden layer\n",
    "\n",
    "#COMPLETE\n",
    "mlp = MLPRegressor(hidden_layer_sizes=(5, ), solver='lbfgs', random_state=numero_di_matricola)\n",
    "\n",
    "#let's learn the model on training data\n",
    "#COMPLETE\n",
    "mlp.fit(Xtrain_scaled, Ytrain)\n",
    "\n",
    "#let's print the error (1 - R^2) on training data\n",
    "#COMPLETE\n",
    "print('1 - coeff. det . on training data: ', 1 - mlp.score(Xtrain_scaled, Ytrain))\n",
    "\n",
    "#let's print the error (1 - R^2) on validation data\n",
    "#COMPLETE\n",
    "print('1 - coeff. det . on validation data: ', 1 - mlp.score(Xval_scaled, Yval))\n",
    "\n",
    "#let's print the coefficients of the model for the input nodes (but not the bias)\n",
    "#COMPLETE\n",
    "print(mlp.coefs_)\n",
    "\n",
    "#let's print the coefficient for the bias (i.e., the bias)\n",
    "#COMPLETE\n",
    "print(mlp.intercepts_)\n",
    "\n",
    "print(mlp.intercepts_[0] * mlp.coefs_[1][0] + mlp.intercepts_[1])"
   ]
  },
  {
   "cell_type": "markdown",
   "metadata": {},
   "source": [
    "Note that with a smaller number of iterations we had a larger error on training set but a smaller error on validation data -> \"early stopping is a form of regularization\""
   ]
  },
  {
   "cell_type": "markdown",
   "metadata": {},
   "source": [
    "Let's build a NN with 10 nodes in the only hidden layer"
   ]
  },
  {
   "cell_type": "code",
   "execution_count": 50,
   "metadata": {},
   "outputs": [],
   "source": [
    "#let's build a NN with 10 nodes in the only hidden layer\n",
    "\n",
    "#COMPLETE"
   ]
  },
  {
   "cell_type": "markdown",
   "metadata": {},
   "source": [
    "Let's build a NN with 100 nodes in the only hidden layer. Note that this is the default!"
   ]
  },
  {
   "cell_type": "markdown",
   "metadata": {},
   "source": [
    "Let's try 2 layers, 1 node each"
   ]
  },
  {
   "cell_type": "code",
   "execution_count": null,
   "metadata": {},
   "outputs": [],
   "source": [
    "#let's build a NN with 2 hidden layers, 1 node each\n",
    "\n",
    "#COMPLETE"
   ]
  },
  {
   "cell_type": "markdown",
   "metadata": {},
   "source": [
    "Let's try 2 layers, 2 nodes each"
   ]
  },
  {
   "cell_type": "code",
   "execution_count": null,
   "metadata": {},
   "outputs": [],
   "source": [
    "#let's build a NN with 2 layers, 2 nodes each\n",
    "\n",
    "#COMPLETE"
   ]
  },
  {
   "cell_type": "markdown",
   "metadata": {},
   "source": [
    "Let's try 2 layers, 10 nodes each"
   ]
  },
  {
   "cell_type": "code",
   "execution_count": null,
   "metadata": {},
   "outputs": [],
   "source": [
    "#let's build a NN with 2 layers, 10 nodes each\n",
    "\n",
    "#COMPLETE"
   ]
  },
  {
   "cell_type": "markdown",
   "metadata": {},
   "source": [
    "Let's try 2 layers, 100 nodes each"
   ]
  },
  {
   "cell_type": "code",
   "execution_count": null,
   "metadata": {},
   "outputs": [],
   "source": [
    "#let's build a NN with 2 layers, 100 nodes each\n",
    "\n",
    "#COMPLETE"
   ]
  },
  {
   "cell_type": "markdown",
   "metadata": {},
   "source": [
    "So it seems that 1 layer (and default number of iterations) works best for this dataset. Let's try 5-fold cross-validation with number of nodes in the hidden layer between 1 and 20.\n",
    "Note that we use train and validation data together, since we are doing cross-validation."
   ]
  },
  {
   "cell_type": "code",
   "execution_count": null,
   "metadata": {},
   "outputs": [],
   "source": [
    "from sklearn.model_selection import GridSearchCV\n",
    "\n",
    "#COMPLETE"
   ]
  },
  {
   "cell_type": "markdown",
   "metadata": {},
   "source": [
    "Now let's check what is the best parameter, and compare the best NNs with the linear model (learned on train and validation) on test data."
   ]
  },
  {
   "cell_type": "code",
   "execution_count": null,
   "metadata": {},
   "outputs": [],
   "source": [
    "#let's print the best model according to grid search\n",
    "#COMPLETE\n",
    "\n",
    "#let's print the error 1-R^2 for the best model\n",
    "#COMPLETE"
   ]
  },
  {
   "cell_type": "markdown",
   "metadata": {},
   "source": [
    "Let compare the error of the best NN on train and validation and on test data."
   ]
  },
  {
   "cell_type": "code",
   "execution_count": null,
   "metadata": {},
   "outputs": [],
   "source": [
    "#COMPLETE"
   ]
  },
  {
   "cell_type": "markdown",
   "metadata": {},
   "source": [
    "Now let's learn the linear model on train and validation, and get error (1-R^2) on train and validation and on test data."
   ]
  },
  {
   "cell_type": "code",
   "execution_count": null,
   "metadata": {},
   "outputs": [],
   "source": [
    "#COMPLETE"
   ]
  },
  {
   "cell_type": "markdown",
   "metadata": {},
   "source": [
    "Note: MLPRegressor has several other parameters!"
   ]
  }
 ],
 "metadata": {
  "kernelspec": {
   "display_name": "Python 3 (ipykernel)",
   "language": "python",
   "name": "python3"
  },
  "language_info": {
   "codemirror_mode": {
    "name": "ipython",
    "version": 3
   },
   "file_extension": ".py",
   "mimetype": "text/x-python",
   "name": "python",
   "nbconvert_exporter": "python",
   "pygments_lexer": "ipython3",
   "version": "3.11.6"
  }
 },
 "nbformat": 4,
 "nbformat_minor": 4
}
