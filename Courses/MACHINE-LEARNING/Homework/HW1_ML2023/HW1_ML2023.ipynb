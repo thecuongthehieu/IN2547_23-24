{
 "cells": [
  {
   "cell_type": "markdown",
   "metadata": {
    "tags": []
   },
   "source": [
    "#  Regression on House Pricing Dataset with SVM\n",
    "We consider a reduced version of a dataset containing house sale prices for King County, which includes Seattle. It includes homes sold between May 2014 and May 2015.\n",
    "\n",
    "https://www.kaggle.com/harlfoxem/housesalesprediction\n",
    "\n",
    "For each house we know 18 house features (e.g., number of bedrooms, number of bathrooms, etc.) plus its price, that is what we would like to predict."
   ]
  },
  {
   "cell_type": "markdown",
   "metadata": {},
   "source": [
    "# Overview\n",
    "\n",
    "In the notebook you will first:\n",
    "- split the data into training, validation, and test\n",
    "- standardize the data\n",
    "\n",
    "You will then be asked to learn various SVM models, in particular:\n",
    "- for each of the kernels ‘linear’, ‘poly’, ‘rbf’, and ‘sigmoid’, you will learn the best model having to choose among various values of some hyperparameters; the choice of hyperparameters must be done with 5-fold cross-validation\n",
    "- choose the best kernel, using a validation approach (not cross-validation)\n",
    "- learn the best SVM model overall\n",
    "\n",
    "You will then be asked to estimate the generalization error of the best SVM model you report. \n",
    "\n",
    "At the end, just for comparison, you will alsk be asked to learn a standard linear regression model (with squared loss), and estimate its generalization error.\n",
    "\n",
    "### IMPORTANT\n",
    "- Note that in each of the above steps you will have to choose the appropriate split of the data (see the first bullet point above)\n",
    "- The code should run without requiring modifications even if some best choice of parameters, changes; for example, you should not pass the best value of hyperparameters \"manually\" (i.e., passing the values as input parameters to the models). The only exception is in the TO DO titled 'ANSWER THE FOLLOWING'\n",
    "- For SVM, since the values to be predicted are all in the thousands of dollars, you will need to always set epsilon=1000\n",
    "- Do not change the printing instructions (other than adding the correct variable name for your code), and do not add printing instructions!"
   ]
  },
  {
   "cell_type": "markdown",
   "metadata": {},
   "source": [
    "## TO DO - INSERT YOUR NUMERO DI MATRICOLA BELOW"
   ]
  },
  {
   "cell_type": "code",
   "execution_count": 1,
   "metadata": {
    "tags": []
   },
   "outputs": [],
   "source": [
    "#put here your ``numero di matricola''\n",
    "numero_di_matricola = 2106235 # COMPLETE"
   ]
  },
  {
   "cell_type": "markdown",
   "metadata": {},
   "source": [
    "The following code loads all required packages"
   ]
  },
  {
   "cell_type": "code",
   "execution_count": 2,
   "metadata": {
    "tags": []
   },
   "outputs": [],
   "source": [
    "#import all packages needed\n",
    "import pandas as pd\n",
    "from sklearn.model_selection import train_test_split\n",
    "from sklearn import preprocessing\n",
    "from sklearn import svm\n",
    "from sklearn import model_selection\n",
    "from sklearn import linear_model"
   ]
  },
  {
   "cell_type": "markdown",
   "metadata": {
    "tags": []
   },
   "source": [
    "The code below loads the data and remove samples with missing values. It also prints the number of samples in the datasets."
   ]
  },
  {
   "cell_type": "code",
   "execution_count": 3,
   "metadata": {
    "tags": []
   },
   "outputs": [
    {
     "name": "stdout",
     "output_type": "stream",
     "text": [
      "Total number of samples: 3164\n"
     ]
    }
   ],
   "source": [
    "#load the data - do not change the path below!\n",
    "df = pd.read_csv('kc_house_data.csv', sep = ',')\n",
    "\n",
    "#remove the data samples with missing values (NaN)\n",
    "df = df.dropna() \n",
    "\n",
    "Data = df.values\n",
    "m = Data.shape[0]\n",
    "Y = Data[:m,2]\n",
    "X = Data[:m,3:]\n",
    "\n",
    "print(\"Total number of samples:\",m)"
   ]
  },
  {
   "cell_type": "markdown",
   "metadata": {
    "tags": []
   },
   "source": [
    "# Data preprocessing"
   ]
  },
  {
   "cell_type": "markdown",
   "metadata": {},
   "source": [
    "## TO DO - SPLIT DATA INTO TRAINING, VALIDATION, AND TESTING, WITH THE FOLLOWING PERCENTAGES: 60%, 20%, 20%\n",
    "\n",
    "Use the train_test_split function from sklearn.model_selection to do it; in every call fix random_state to your numero_di_matricola. At the end, you should store the data in the following variables:\n",
    "- Xtrain, Ytrain: training data\n",
    "- Xval, Yval: validation data\n",
    "- Xtrain_val, Ytrain_val: training and validation data\n",
    "- Xtest, Ytest: test data\n",
    "\n",
    "The code then prints the number of samples in Xtrain, Xval, Xtrain_val, and Xtest\n",
    "\n",
    "IMPORTANT:\n",
    "- first split the data into training+validation and test; the first part of the data in output from train_test_split must correspond to the training+validation\n",
    "- then split training+validation into training and validation; the first part of the data in output from train_test_split must correspond to the training\n"
   ]
  },
  {
   "cell_type": "code",
   "execution_count": 4,
   "metadata": {
    "tags": []
   },
   "outputs": [
    {
     "name": "stdout",
     "output_type": "stream",
     "text": [
      "Training size:  1898\n",
      "Validation size:  633\n",
      "Training and validation size 2531\n",
      "Test size 633\n"
     ]
    }
   ],
   "source": [
    "# COMPLETE\n",
    "m_train = int(0.6 * m)\n",
    "m_val = int((m - m_train) / 2.)\n",
    "m_test = m - m_train - m_val\n",
    "\n",
    "Xtrain_val, Xtest, Ytrain_val, Ytest = train_test_split(X, Y, test_size=m_test / m, random_state=numero_di_matricola)\n",
    "Xtrain, Xval, Ytrain, Yval = train_test_split(Xtrain_val, Ytrain_val, test_size=m_val / (m_train + m_val), random_state=numero_di_matricola)\n",
    "\n",
    "print(\"Training size: \", Xtrain.shape[0])\n",
    "print(\"Validation size: \", Xval.shape[0])\n",
    "print(\"Training and validation size\",Xtrain_val.shape[0])\n",
    "print(\"Test size\",Xtest.shape[0])"
   ]
  },
  {
   "cell_type": "markdown",
   "metadata": {},
   "source": [
    "## TO DO - STANDARDIZE THE DATA\n",
    "\n",
    "Standardize the data using the preprocessing.StandardScaler from scikit learn.\n",
    "\n",
    "If V is the name of the variable storing part of the data, the corresponding standardized version should be stored in V_scaled. For example, the scaled version of Xtrain should be stored in Xtrain_scaled"
   ]
  },
  {
   "cell_type": "code",
   "execution_count": 5,
   "metadata": {
    "tags": []
   },
   "outputs": [],
   "source": [
    "# COMPLETE\n",
    "scaler = preprocessing.StandardScaler().fit(Xtrain)\n",
    "Xtrain_scaled = scaler.transform(Xtrain)\n",
    "Xtrain_val_scaled = scaler.transform(Xtrain_val)\n",
    "Xval_scaled = scaler.transform(Xval)\n",
    "Xtest_scaled = scaler.transform(Xtest)"
   ]
  },
  {
   "cell_type": "markdown",
   "metadata": {
    "tags": []
   },
   "source": [
    "# SVM models: learning the best model for each kernel"
   ]
  },
  {
   "cell_type": "markdown",
   "metadata": {
    "tags": []
   },
   "source": [
    "## TO DO - CHOOSE THE BEST HYPERPARAMETERS FOR LINEAR KERNEL\n",
    "\n",
    "Consider svm.SVR and linear kernel. Consider the following hyperparameters and their values:\n",
    "- C: 0.1, 1, 10, 100, 1000\n",
    "\n",
    "Leave all other input parameters to default. \n",
    "\n",
    "Find the best value of the hyperparameters using 5-fold cross validation. Use model_selection.GridSearchCV to perform the cross-validation.\n",
    "\n",
    "Print the best value of the hyperparameters (they are in the attribute best_params_ from GridSearchCV)"
   ]
  },
  {
   "cell_type": "code",
   "execution_count": 6,
   "metadata": {},
   "outputs": [
    {
     "name": "stdout",
     "output_type": "stream",
     "text": [
      "\n",
      "Linear SVM\n",
      "Best value for hyperparameters:  {'C': 1000}\n"
     ]
    }
   ],
   "source": [
    "print(\"\\nLinear SVM\")\n",
    "# COMPLETE\n",
    "hyperparameters = {'C': [0.1, 1, 10, 100, 1000]}\n",
    "Linear_SVR_Searcher = model_selection.GridSearchCV(estimator=svm.SVR(kernel='linear', epsilon=1000), param_grid=hyperparameters)\n",
    "Linear_SVR_Searcher.fit(Xtrain_scaled, Ytrain)\n",
    "\n",
    "best_hyperparameters = Linear_SVR_Searcher.best_params_\n",
    "print(\"Best value for hyperparameters: \", best_hyperparameters) # COMPLETE"
   ]
  },
  {
   "cell_type": "markdown",
   "metadata": {},
   "source": [
    "## TO DO - LEARN A MODEL WITH LINEAR KERNEL AND BEST CHOICE OF HYPERPARAMETERS\n",
    "\n",
    "This model will be compared with the best models with other kernels using validation (not cross validation).\n",
    "\n",
    "DO NOT PASS PARAMETERS BY HARD-CODING THEM IN THE CODE.\n",
    "\n",
    "Print the training score of the best model."
   ]
  },
  {
   "cell_type": "code",
   "execution_count": 7,
   "metadata": {},
   "outputs": [
    {
     "name": "stdout",
     "output_type": "stream",
     "text": [
      "Training score:  0.6373022138474638\n"
     ]
    }
   ],
   "source": [
    "# COMPLETE\n",
    "Best_Linear_SVR = Linear_SVR_Searcher.best_estimator_\n",
    "Best_Linear_SVR.fit(Xtrain_scaled, Ytrain)\n",
    "\n",
    "print(\"Training score: \", Best_Linear_SVR.score(Xtrain_scaled, Ytrain)) # COMPLETE"
   ]
  },
  {
   "cell_type": "markdown",
   "metadata": {},
   "source": [
    "## TO DO - CHOOSE THE BEST HYPERPARAMETERS FOR POLY KERNEL\n",
    "\n",
    "Consider svm.SVR and polynomial kernel. Consider the following hyperparameters and their values:\n",
    "- C: 0.1, 1, 10, 100, 1000\n",
    "- degree: 2, 3, 4\n",
    "\n",
    "Leave all other input parameters to default. \n",
    "\n",
    "Find the best value of the hyperparameters using 5-fold cross validation. Use model_selection.GridSearchCV to perform the cross-validation.\n",
    "\n",
    "Print the best value of the hyperparameters."
   ]
  },
  {
   "cell_type": "code",
   "execution_count": 8,
   "metadata": {
    "tags": []
   },
   "outputs": [
    {
     "name": "stdout",
     "output_type": "stream",
     "text": [
      "\n",
      "Poly SVM\n",
      "Best value for hyperparameters:  {'C': 1000, 'degree': 3}\n"
     ]
    }
   ],
   "source": [
    "print(\"\\nPoly SVM\")\n",
    "# COMPLETE\n",
    "hyperparameters = {'C': [0.1, 1, 10, 100, 1000], 'degree': [2, 3, 4]}\n",
    "Poly_SVR_Searcher = model_selection.GridSearchCV(estimator=svm.SVR(kernel='poly', epsilon=1000), param_grid=hyperparameters)\n",
    "Poly_SVR_Searcher.fit(Xtrain_scaled, Ytrain)\n",
    "\n",
    "best_hyperparameters = Poly_SVR_Searcher.best_params_\n",
    "print(\"Best value for hyperparameters: \", best_hyperparameters) # COMPLETE"
   ]
  },
  {
   "cell_type": "markdown",
   "metadata": {
    "tags": []
   },
   "source": [
    "## TO DO - LEARN A MODEL WITH POLY KERNEL AND BEST CHOICE OF HYPERPARAMETERS\n",
    "\n",
    "This model will be compared with the best models with other kernels using validation (not cross validation).\n",
    "\n",
    "DO NOT PASS PARAMETERS BY HARD-CODING THEM IN THE CODE.\n",
    "\n",
    "Print the training score of the best model."
   ]
  },
  {
   "cell_type": "code",
   "execution_count": 9,
   "metadata": {
    "tags": []
   },
   "outputs": [
    {
     "name": "stdout",
     "output_type": "stream",
     "text": [
      "Training score:  0.507542444512955\n"
     ]
    }
   ],
   "source": [
    "# COMPLETE\n",
    "Best_Poly_SVR = Poly_SVR_Searcher.best_estimator_\n",
    "Best_Poly_SVR.fit(Xtrain_scaled, Ytrain)\n",
    "\n",
    "print(\"Training score: \", Best_Poly_SVR.score(Xtrain_scaled, Ytrain)) # COMPLETE"
   ]
  },
  {
   "cell_type": "markdown",
   "metadata": {},
   "source": [
    "## TO DO - CHOOSE THE BEST HYPERPARAMETERS FOR RBF KERNEL\n",
    "\n",
    "Consider svm.SVR and RBF kernel. Consider the following hyperparameters and their values:\n",
    "- C: 0.1, 1, 10, 100, 1000\n",
    "- gamma: 0.01\n",
    "\n",
    "Leave all other input parameters to default. \n",
    "\n",
    "Find the best value of the hyperparameters using 5-fold cross validation. Use model_selection.GridSearchCV to perform the cross-validation.\n",
    "\n",
    "Print the best value of the hyperparameters."
   ]
  },
  {
   "cell_type": "code",
   "execution_count": 10,
   "metadata": {
    "tags": []
   },
   "outputs": [
    {
     "name": "stdout",
     "output_type": "stream",
     "text": [
      "\n",
      "RBF SVM\n",
      "Best value for hyperparameters:  {'C': 1000, 'gamma': 0.01}\n"
     ]
    }
   ],
   "source": [
    "print(\"\\nRBF SVM\")\n",
    "# COMPLETE\n",
    "hyperparameters = {'C': [0.1, 1, 10, 100, 1000], 'gamma': [0.01]}\n",
    "Rbf_SVR_Searcher = model_selection.GridSearchCV(estimator=svm.SVR(kernel='rbf', epsilon=1000), param_grid=hyperparameters)\n",
    "Rbf_SVR_Searcher.fit(Xtrain_scaled, Ytrain)\n",
    "\n",
    "best_hyperparameters = Rbf_SVR_Searcher.best_params_\n",
    "print(\"Best value for hyperparameters: \", best_hyperparameters)# COMPLETE"
   ]
  },
  {
   "cell_type": "markdown",
   "metadata": {},
   "source": [
    "## TO DO - LEARN A MODEL WITH RBF KERNEL AND BEST CHOICE OF HYPERPARAMETERS\n",
    "\n",
    "This model will be compared with the best models with other kernels using validation (not cross validation).\n",
    "\n",
    "DO NOT PASS PARAMETERS BY HARD-CODING THEM IN THE CODE.\n",
    "\n",
    "Print the training score of the best model."
   ]
  },
  {
   "cell_type": "code",
   "execution_count": 11,
   "metadata": {
    "tags": []
   },
   "outputs": [
    {
     "name": "stdout",
     "output_type": "stream",
     "text": [
      "Training score:  0.1385054464346578\n"
     ]
    }
   ],
   "source": [
    "# COMPLETE\n",
    "Best_Rbf_SVR = Rbf_SVR_Searcher.best_estimator_\n",
    "Best_Rbf_SVR.fit(Xtrain_scaled, Ytrain)\n",
    "\n",
    "print(\"Training score: \", Best_Rbf_SVR.score(Xtrain_scaled, Ytrain)) # COMPLETE"
   ]
  },
  {
   "cell_type": "markdown",
   "metadata": {
    "tags": []
   },
   "source": [
    "## TO DO - CHOOSE THE BEST HYPERPARAMETERS FOR SIGMOID KERNEL\n",
    "\n",
    "Consider svm.SVR and sigmoid kernel. Consider the following hyperparameters and their values:\n",
    "- C: 0.1, 1, 10, 100, 1000\n",
    "- gamma: 0.01\n",
    "- coef0: 0, 1\n",
    "\n",
    "Leave all other input parameters to default. \n",
    "\n",
    "Find the best value of the hyperparameters using 5-fold cross validation. Use model_selection.GridSearchCV to perform the cross-validation.\n",
    "\n",
    "Print the best value of the hyperparameters."
   ]
  },
  {
   "cell_type": "code",
   "execution_count": 12,
   "metadata": {
    "tags": []
   },
   "outputs": [
    {
     "name": "stdout",
     "output_type": "stream",
     "text": [
      "\n",
      "Sigmoid SVM\n",
      "Best value for hyperparameters:  {'C': 1000, 'coef0': 0, 'gamma': 0.01}\n"
     ]
    }
   ],
   "source": [
    "print(\"\\nSigmoid SVM\")\n",
    "# COMPLETE\n",
    "hyperparameters = {'C': [0.1, 1, 10, 100, 1000], 'gamma': [0.01], 'coef0': [0, 1]}\n",
    "Sigmoid_SVR_Searcher = model_selection.GridSearchCV(estimator=svm.SVR(kernel='sigmoid', epsilon=1000), param_grid=hyperparameters)\n",
    "Sigmoid_SVR_Searcher.fit(Xtrain_scaled, Ytrain)\n",
    "\n",
    "best_hyperparameters = Sigmoid_SVR_Searcher.best_params_\n",
    "print(\"Best value for hyperparameters: \", best_hyperparameters)# COMPLETE"
   ]
  },
  {
   "cell_type": "markdown",
   "metadata": {
    "tags": []
   },
   "source": [
    "## TO DO - LEARN A MODEL WITH SIGMOID KERNEL AND BEST CHOICE OF HYPERPARAMETERS\n",
    "\n",
    "This model will be compared with the best models with other kernels using validation (not cross validation).\n",
    "\n",
    "DO NOT PASS PARAMETERS BY HARD-CODING THEM IN THE CODE.\n",
    "\n",
    "Print the training score of the best model."
   ]
  },
  {
   "cell_type": "code",
   "execution_count": 13,
   "metadata": {
    "tags": []
   },
   "outputs": [
    {
     "name": "stdout",
     "output_type": "stream",
     "text": [
      "Training score:  0.1195104068524464\n"
     ]
    }
   ],
   "source": [
    "# COMPLETE\n",
    "Best_Sigmoid_SVR = Sigmoid_SVR_Searcher.best_estimator_\n",
    "Best_Sigmoid_SVR.fit(Xtrain_scaled, Ytrain)\n",
    "\n",
    "print(\"Training score: \", Best_Sigmoid_SVR.score(Xtrain_scaled, Ytrain))# COMPLETE"
   ]
  },
  {
   "cell_type": "markdown",
   "metadata": {
    "tags": []
   },
   "source": [
    "## TO DO - USE VALIDATION TO CHOOSE THE BEST MODEL AMONG THE ONES LEARNED FOR THE VARIOUS KERNELS\n",
    "\n",
    "Use validation to choose the best model among the four ones (one for each kernel) you have learned above.\n",
    "\n",
    "Print, following exactly the order described here, with 1 value for each line:\n",
    "- the validation score of SVM with linear kernel (the template below does not include such print)\n",
    "- the validation score of SVM with polynomial kernel (the template below does not include such print)\n",
    "- the validation score of SVM with rbf kernel (the template below does not include such print)\n",
    "- the validation score of SVM with sigmoid kernel (the template below does not include such print)\n",
    "- the best kernel (e.g., sigmoid) \n",
    "- the validation score of the best kernel \n",
    "\n",
    "For the first 4 prints, use the format: \"kernel validation score: \". For example, for linear kernel \"Linear validation score: \", for rbf \"rbf validation score: \""
   ]
  },
  {
   "cell_type": "code",
   "execution_count": 14,
   "metadata": {
    "tags": []
   },
   "outputs": [
    {
     "name": "stdout",
     "output_type": "stream",
     "text": [
      "\n",
      "VALIDATION TO CHOOSE SVM KERNEL\n",
      "Linear validation score:  0.6585373031180377\n",
      "Polynomial validation score:  -0.3623851386534851\n",
      "Rbf validation score:  0.13917307386226752\n",
      "Sigmoid validation score:  0.12062911793517794\n",
      "Best kernel:  linear\n",
      "Validation score of best kernel:  0.6585373031180377\n"
     ]
    }
   ],
   "source": [
    "print(\"\\nVALIDATION TO CHOOSE SVM KERNEL\")\n",
    "\n",
    "# COMPLETE - INCLUDING THE FIRST 4 PRINT FROM THE LIST ABOVE\n",
    "print(\"Linear validation score: \", Best_Linear_SVR.score(Xval_scaled, Yval))\n",
    "print(\"Polynomial validation score: \", Best_Poly_SVR.score(Xval_scaled, Yval))\n",
    "print(\"Rbf validation score: \", Best_Rbf_SVR.score(Xval_scaled, Yval))\n",
    "print(\"Sigmoid validation score: \", Best_Sigmoid_SVR.score(Xval_scaled, Yval))\n",
    "\n",
    "Best_Kernel_SVR = Best_Linear_SVR\n",
    "Best_Kernel = 'linear'\n",
    "if (Best_Poly_SVR.score(Xval_scaled, Yval) > Best_Kernel_SVR.score(Xval_scaled, Yval)):\n",
    "    Best_Kernel_SVR = Best_Poly_SVR\n",
    "    Best_Kernel = 'poly'\n",
    "if (Best_Rbf_SVR.score(Xval_scaled, Yval) > Best_Kernel_SVR.score(Xval_scaled, Yval)):\n",
    "    Best_Kernel_SVR = Best_Rbf_SVR\n",
    "    Best_Kernel = 'rbf'\n",
    "if (Best_Sigmoid_SVR.score(Xval_scaled, Yval) > Best_Kernel_SVR.score(Xval_scaled, Yval)):\n",
    "    Best_Kernel_SVR = Best_Sigmoid_SVR\n",
    "    Best_Kernel = 'sigmoid'\n",
    "    \n",
    "print(\"Best kernel: \", Best_Kernel) # COMPLETE\n",
    "print(\"Validation score of best kernel: \", Best_Kernel_SVR.score(Xval_scaled, Yval)) # COMPLETE"
   ]
  },
  {
   "cell_type": "markdown",
   "metadata": {},
   "source": [
    "## TO DO - LEARN THE FINAL MODEL FOR WHICH YOU WANT TO ESTIMATE THE GENERALIZATION ERROR\n",
    "\n",
    "Learn the final model (i.e., the one you would use to make predictions about future data).\n",
    "\n",
    "Print the score of the model on the data used to learn it."
   ]
  },
  {
   "cell_type": "code",
   "execution_count": 15,
   "metadata": {
    "tags": []
   },
   "outputs": [
    {
     "name": "stdout",
     "output_type": "stream",
     "text": [
      "\n",
      "TRAINING SCORE BEST MODEL\n",
      "Score of the best model on the data used to learn it:  0.63843000522953\n"
     ]
    }
   ],
   "source": [
    "print(\"\\nTRAINING SCORE BEST MODEL\")\n",
    "# COMPLETE\n",
    "Best_Kernel_SVR.fit(Xtrain_val_scaled, Ytrain_val)\n",
    "print(\"Score of the best model on the data used to learn it: \", Best_Kernel_SVR.score(Xtrain_val_scaled, Ytrain_val))# COMPLETE"
   ]
  },
  {
   "cell_type": "markdown",
   "metadata": {
    "tags": []
   },
   "source": [
    "## TO DO - PRINT THE ESTIMATE  OF THE GENERALIZATION ERROR FOR THE FINAL MODEL\n",
    "\n",
    "Print the estimate of the generalization \"score\" for the final model. The generalization \"score\" is the score computed on the data used to estimate the generalization error."
   ]
  },
  {
   "cell_type": "code",
   "execution_count": 16,
   "metadata": {
    "tags": []
   },
   "outputs": [
    {
     "name": "stdout",
     "output_type": "stream",
     "text": [
      "\n",
      "GENERALIZATION SCORE BEST MODEL\n",
      "Estimate of the generalization score for best SVM model:  0.6078057193391995\n"
     ]
    }
   ],
   "source": [
    "print(\"\\nGENERALIZATION SCORE BEST MODEL\")\n",
    "\n",
    "print(\"Estimate of the generalization score for best SVM model: \", Best_Kernel_SVR.score(Xtest_scaled, Ytest))# COMPLETE"
   ]
  },
  {
   "cell_type": "markdown",
   "metadata": {
    "tags": []
   },
   "source": [
    "## TO DO - ANSWER THE FOLLOWING\n",
    "\n",
    "Print the training score (score on data used to train the model) and the generalization score (score on data used to estimate the generalization error) of the final SVM model THAT YOU OBTAIN WHEN YOU RUN THE CODE, one per line, printing the smallest one first. NOTE: THE VALUES HERE SHOULD BE HARDCODED\n",
    "\n",
    "Print you answer (yes/no) to the following question: does the relation (i.e., smaller, larger) between the training score and the generalization score agree with the theory?\n",
    "\n",
    "Print your motivation for the yes/no answer above, using at most 500 characters."
   ]
  },
  {
   "cell_type": "code",
   "execution_count": 17,
   "metadata": {
    "tags": []
   },
   "outputs": [
    {
     "name": "stdout",
     "output_type": "stream",
     "text": [
      "\n",
      "ANSWER\n",
      "Generalization score:  0.0\n",
      "Training score:  0.0\n",
      "YES, \n"
     ]
    }
   ],
   "source": [
    "print(\"\\nANSWER\")\n",
    "\n",
    "#note that you may have to invert the order of the following 2 lines, print the smallest 1 first. THE VALUES HERE SHOULD BE HARD CODED!\n",
    "print(\"Generalization score: \", 0.) # COMPLETE\n",
    "print(\"Training score: \", 0.) # COMPLETE\n",
    "\n",
    "#the following is a string with you anwer\n",
    "motivation = \"YES, \"\n",
    "\n",
    "print(motivation)"
   ]
  },
  {
   "cell_type": "markdown",
   "metadata": {
    "tags": []
   },
   "source": [
    "## TO DO: LEARN A STANDARD LINEAR MODEL\n",
    "Learn a standard linear model using scikit learn.\n",
    "\n",
    "Print the score of the model on the data used to learn it.\n",
    "\n",
    "Print the generalization \"score\" of the model."
   ]
  },
  {
   "cell_type": "code",
   "execution_count": 18,
   "metadata": {},
   "outputs": [
    {
     "name": "stdout",
     "output_type": "stream",
     "text": [
      "\n",
      "LR MODEL\n",
      "Score of LR model on data used to learng it:  0.6959653714996519\n",
      "Generalization score of LR model:  0.7353872598123774\n"
     ]
    }
   ],
   "source": [
    "print(\"\\nLR MODEL\")\n",
    "# COMPLETE\n",
    "Linear_Model = linear_model.LinearRegression()\n",
    "\n",
    "Linear_Model.fit(Xtrain_val_scaled, Ytrain_val)\n",
    "\n",
    "print(\"Score of LR model on data used to learng it: \", Linear_Model.score(Xtrain_val_scaled, Ytrain_val))# COMPLETE\n",
    "print(\"Generalization score of LR model: \", Linear_Model.score(Xtest_scaled, Ytest)) # COMPLETE"
   ]
  },
  {
   "cell_type": "code",
   "execution_count": null,
   "metadata": {},
   "outputs": [],
   "source": []
  }
 ],
 "metadata": {
  "anaconda-cloud": {},
  "celltoolbar": "Raw Cell Format",
  "kernelspec": {
   "display_name": "Python 3 (ipykernel)",
   "language": "python",
   "name": "python3"
  },
  "language_info": {
   "codemirror_mode": {
    "name": "ipython",
    "version": 3
   },
   "file_extension": ".py",
   "mimetype": "text/x-python",
   "name": "python",
   "nbconvert_exporter": "python",
   "pygments_lexer": "ipython3",
   "version": "3.11.6"
  }
 },
 "nbformat": 4,
 "nbformat_minor": 4
}
