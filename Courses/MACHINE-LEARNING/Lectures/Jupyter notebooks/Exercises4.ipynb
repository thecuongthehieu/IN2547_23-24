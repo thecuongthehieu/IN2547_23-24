{
 "cells": [
  {
   "cell_type": "markdown",
   "id": "ef4e9340-8308-4a58-b7f2-6807f14017e2",
   "metadata": {},
   "source": [
    "## Exercise 4 "
   ]
  },
  {
   "cell_type": "code",
   "execution_count": 3,
   "id": "333b8fee-73e7-4565-947e-8ba166838b5b",
   "metadata": {},
   "outputs": [],
   "source": [
    "#put here your ``numero di matricola''\n",
    "numero_di_matricola = 2106235\n",
    "\n",
    "from sklearn import datasets, preprocessing, linear_model, svm\n",
    "%matplotlib inline\n",
    "import matplotlib.pyplot as plt\n",
    "import numpy as np"
   ]
  },
  {
   "cell_type": "code",
   "execution_count": 6,
   "id": "96981bb5-2e31-469d-951a-1295088fef46",
   "metadata": {},
   "outputs": [],
   "source": [
    "X = np.array([[ 0.2, -1.4], [ -2.1, 1.7], [ 0.9, 1], [-1, -3.1], [-0.2, -1], [-0.2, 1.3], [2.0, -1], [0.5, 2.1]])\n",
    "y = np.array([-1, 1, 1, -1, -1, 1, -1, 1])\n",
    "\n",
    "# scaler = preprocessing.StandardScaler()\n",
    "# scaler.fit(X)\n",
    "# X = scaler.transform(X)"
   ]
  },
  {
   "cell_type": "markdown",
   "id": "d2f1325e-682b-490c-9d1c-fe2071565198",
   "metadata": {},
   "source": [
    "### Hard-SVM"
   ]
  },
  {
   "cell_type": "code",
   "execution_count": 10,
   "id": "3380db1d-2de6-4702-a394-753c437cd055",
   "metadata": {},
   "outputs": [
    {
     "name": "stdout",
     "output_type": "stream",
     "text": [
      "training error:  0.0\n"
     ]
    }
   ],
   "source": [
    "#Creating a SVM model\n",
    "# TO DO: COMPLETE\n",
    "model_svm = svm.SVC(kernel=\"linear\", C=100000000)\n",
    "\n",
    "#Training the model\n",
    "# TO DO: COMPLETE\n",
    "model_svm.fit(X,y)\n",
    "\n",
    "#Get the training error as 1 - score()\n",
    "# TO DO: COMPLETE\n",
    "training_error = 1 - model_svm.score(X,y)\n",
    "\n",
    "#Print the training error\n",
    "# TO DO: COMPLETE\n",
    "print(\"training error: \", training_error)"
   ]
  },
  {
   "cell_type": "markdown",
   "id": "48b75894-d1c1-4a1d-87aa-7a3d49056ad5",
   "metadata": {},
   "source": [
    "### Plot"
   ]
  },
  {
   "cell_type": "code",
   "execution_count": 33,
   "id": "2cb60c63-0094-4d2d-b495-8c1a1af3f4be",
   "metadata": {},
   "outputs": [
    {
     "data": {
      "text/plain": [
       "<matplotlib.contour.QuadContourSet at 0x282eb99d0>"
      ]
     },
     "execution_count": 33,
     "metadata": {},
     "output_type": "execute_result"
    },
    {
     "data": {
      "image/png": "[encoded data removed]",
      "text/plain": [
       "<Figure size 640x480 with 1 Axes>"
      ]
     },
     "metadata": {},
     "output_type": "display_data"
    }
   ],
   "source": [
    "# TO DO: WRITE THE CODE TO PLOT THE DECISION BOUNDARY\n",
    "plt.scatter(X[:, 0], X[:, 1], c=y, s=30)\n",
    "ax = plt.gca()\n",
    "plt.title(\"Plot of SVM decision boundary\")\n",
    "xlim = ax.get_xlim()\n",
    "ylim = ax.get_ylim()\n",
    "# create grid to evaluate model\n",
    "xx = np.linspace(xlim[0], xlim[1], 30)\n",
    "yy = np.linspace(ylim[0], ylim[1], 30)\n",
    "YY, XX = np.meshgrid(yy, xx)\n",
    "xy = np.vstack([XX.ravel(), YY.ravel()]).T\n",
    "# use the decision_function call to obtain the boundary to be plot.\n",
    "# TO DO\n",
    "\n",
    "Z = model_svm.decision_function(xy).reshape(XX.shape)#COMPLETE\n",
    "\n",
    "# plot decision boundary and margins\n",
    "ax.contour(XX, YY, Z, colors='k', levels=[0], alpha=1,\n",
    "linestyles=['-'])"
   ]
  },
  {
   "cell_type": "markdown",
   "id": "f9636a91-28a5-4b1d-82ac-45f57591590f",
   "metadata": {},
   "source": [
    "### Support Vectors"
   ]
  },
  {
   "cell_type": "code",
   "execution_count": 29,
   "id": "101c9bea-5a1d-46cf-8075-8e7c6a40b4aa",
   "metadata": {},
   "outputs": [
    {
     "name": "stdout",
     "output_type": "stream",
     "text": [
      "[4 6 2]\n",
      "[[-0.2 -1. ]\n",
      " [ 2.  -1. ]\n",
      " [ 0.9  1. ]]\n",
      "[[-0.25009047 -0.24983108  0.49992155]]\n"
     ]
    }
   ],
   "source": [
    "#print the support vectors (attribute support)\n",
    "# indexes\n",
    "ids = model_svm.support_\n",
    "print(model_svm.support_)\n",
    "\n",
    "# vectors\n",
    "support_vectors = model_svm.support_vectors_\n",
    "print(support_vectors)\n",
    "\n",
    "# coef\n",
    "dual_coef = model_svm.dual_coef_\n",
    "print(dual_coef)"
   ]
  },
  {
   "cell_type": "markdown",
   "id": "defd74f2-8014-46a5-a095-5468dece6b96",
   "metadata": {},
   "source": [
    "### Tmp"
   ]
  },
  {
   "cell_type": "code",
   "execution_count": 48,
   "id": "3fe105c4-e29d-444c-9c2d-a62650c84e3e",
   "metadata": {},
   "outputs": [
    {
     "name": "stdout",
     "output_type": "stream",
     "text": [
      "-1\n",
      "-1\n",
      "1\n",
      "Optimum w0 = [2.85327668e-04 9.99843107e-01]\n",
      "<w0, x> values:\n",
      "i =  0 val = 1.3997232843000034\n",
      "i =  1 val = 1.6991340938381765\n",
      "i =  2 val = 1.0000999019251058\n",
      "i =  3 val = 3.099798959442274\n",
      "i =  4 val = 0.9999001725575707\n",
      "i =  5 val = 1.2997389735976046\n",
      "i =  6 val = 0.9992724516881747\n",
      "i =  7 val = 2.099813188584331\n"
     ]
    }
   ],
   "source": [
    "w0 = np.zeros(2)\n",
    "for i in range(dual_coef.shape[1]):\n",
    "    print(y[ids[i]])\n",
    "    w0 += dual_coef[0][i] * support_vectors[i][:]\n",
    "    \n",
    "print(\"Optimum w0 =\", w0)\n",
    "\n",
    "print(\"<w0, x> values:\")\n",
    "for i in range(y.shape[0]):\n",
    "    print(\"i = \", i, \"val =\", y[i] * np.dot(w0, X[i]))"
   ]
  },
  {
   "cell_type": "code",
   "execution_count": null,
   "id": "c34854d1-924f-4f6d-99da-a58202970b03",
   "metadata": {},
   "outputs": [],
   "source": []
  }
 ],
 "metadata": {
  "kernelspec": {
   "display_name": "Python 3 (ipykernel)",
   "language": "python",
   "name": "python3"
  },
  "language_info": {
   "codemirror_mode": {
    "name": "ipython",
    "version": 3
   },
   "file_extension": ".py",
   "mimetype": "text/x-python",
   "name": "python",
   "nbconvert_exporter": "python",
   "pygments_lexer": "ipython3",
   "version": "3.11.6"
  }
 },
 "nbformat": 4,
 "nbformat_minor": 5
}
