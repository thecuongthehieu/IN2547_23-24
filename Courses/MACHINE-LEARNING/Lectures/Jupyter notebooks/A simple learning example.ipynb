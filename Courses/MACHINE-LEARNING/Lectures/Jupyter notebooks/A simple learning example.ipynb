{
 "cells": [
  {
   "cell_type": "markdown",
   "metadata": {},
   "source": [
    "# A simple learning example\n",
    "Let's assume that we have the following data regarding students:\n",
    "- various *features*: age at graduation, LM final grade, ML grade, height\n",
    "- whether they have a fun job or not, encoded by a binary label: fun = 1, not fun = -1\n",
    "\n",
    "We will now assume that there is a relation between the features and the label, and see whether we can predict the label for future students."
   ]
  },
  {
   "cell_type": "code",
   "execution_count": 1,
   "metadata": {},
   "outputs": [],
   "source": [
    "#importing some useful packages\n",
    "#NumPy(http://www.numpy.org): useful for scientific computing, provides array objects, etc.\n",
    "import numpy as np\n",
    "#package for random number generators and other useful \"random\" stuff\n",
    "import random as rnd\n",
    "#package with some default math functions\n",
    "import math\n",
    "#specific model from a ML package\n",
    "from sklearn.linear_model import LogisticRegression"
   ]
  },
  {
   "cell_type": "markdown",
   "metadata": {},
   "source": [
    "Let's fix a random seed so that we can replicate the analysis (hopefully...)"
   ]
  },
  {
   "cell_type": "code",
   "execution_count": 2,
   "metadata": {},
   "outputs": [],
   "source": [
    "FV_ID_number = 10\n",
    "rnd.seed(FV_ID_number)"
   ]
  },
  {
   "cell_type": "markdown",
   "metadata": {},
   "source": [
    "We assume that *there is* a function that given the values of the features provides the label. Here, we can *choose* the function"
   ]
  },
  {
   "cell_type": "code",
   "execution_count": 3,
   "metadata": {},
   "outputs": [],
   "source": [
    "def get_true_label(student_features):\n",
    "    age = student_features[0]\n",
    "    LM_grade = student_features[1]\n",
    "    ML_grade = student_features[2]\n",
    "    height = student_features[3]\n",
    "    label = np.sign(-1. * (age - 23.)/10. + 0.6 * (LM_grade-90.)/111. + 0.4 * (ML_grade-18.)/31. + 0. * height )\n",
    "    return label"
   ]
  },
  {
   "cell_type": "markdown",
   "metadata": {},
   "source": [
    "Let's see some examples:"
   ]
  },
  {
   "cell_type": "code",
   "execution_count": 4,
   "metadata": {},
   "outputs": [
    {
     "name": "stdout",
     "output_type": "stream",
     "text": [
      "Label of student 1:  1.0\n",
      "Label of student 2:  -1.0\n"
     ]
    }
   ],
   "source": [
    "student_1 = [25, 110, 31, 181]\n",
    "label_1 = get_true_label(student_1)\n",
    "print(\"Label of student 1: \",label_1)\n",
    "student_2 = [30, 92, 18, 260]\n",
    "label_2 = get_true_label(student_2)\n",
    "print(\"Label of student 2: \",label_2)"
   ]
  },
  {
   "cell_type": "markdown",
   "metadata": {},
   "source": [
    "Let's generate some data!"
   ]
  },
  {
   "cell_type": "code",
   "execution_count": 5,
   "metadata": {},
   "outputs": [],
   "source": [
    "# number of students for which we have data\n",
    "N = 40\n",
    "# let's save the data in matrix X\n",
    "X = np.zeros((N,4))\n",
    "for i in range(N):\n",
    "    #let's generate age\n",
    "    X[i,0] = rnd.randint(20,28)\n",
    "    #let's generate LM_grade\n",
    "    X[i,1] = rnd.randint(80,112)\n",
    "    #let's generate ML_grade\n",
    "    X[i,2] = rnd.randint(18,32)\n",
    "    #let's generate height\n",
    "    X[i,3] = rnd.randint(140,201)\n",
    "\n",
    "Y = np.zeros(N)\n",
    "for i in range(N):\n",
    "    Y[i] = get_true_label(X[i,:])"
   ]
  },
  {
   "cell_type": "markdown",
   "metadata": {},
   "source": [
    "Let's look at the data"
   ]
  },
  {
   "cell_type": "code",
   "execution_count": 6,
   "metadata": {},
   "outputs": [
    {
     "name": "stdout",
     "output_type": "stream",
     "text": [
      "[[ 20. 107.  25. 176.]\n",
      " [ 20.  93.  25. 192.]\n",
      " [ 27.  97.  28. 191.]\n",
      " [ 22.  82.  26. 171.]\n",
      " [ 25.  84.  21. 200.]\n",
      " [ 25.  82.  24. 195.]\n",
      " [ 22. 102.  24. 166.]\n",
      " [ 24.  96.  25. 151.]\n",
      " [ 24. 103.  20. 169.]\n",
      " [ 23. 108.  27. 164.]\n",
      " [ 20.  80.  21. 148.]\n",
      " [ 23.  99.  26. 163.]\n",
      " [ 23. 100.  28. 175.]\n",
      " [ 27. 107.  25. 144.]\n",
      " [ 25. 112.  20. 193.]\n",
      " [ 23. 106.  21. 142.]\n",
      " [ 20. 111.  22. 192.]\n",
      " [ 21.  85.  20. 164.]\n",
      " [ 25.  89.  19. 201.]\n",
      " [ 21. 108.  20. 191.]\n",
      " [ 23. 102.  24. 166.]\n",
      " [ 27.  95.  28. 157.]\n",
      " [ 22.  91.  31. 147.]\n",
      " [ 24. 109.  22. 150.]\n",
      " [ 22.  91.  25. 189.]\n",
      " [ 25. 100.  24. 154.]\n",
      " [ 20.  82.  23. 197.]\n",
      " [ 25.  95.  19. 156.]\n",
      " [ 27. 105.  27. 150.]\n",
      " [ 26. 111.  28. 197.]\n",
      " [ 23.  97.  26. 170.]\n",
      " [ 27.  84.  20. 171.]\n",
      " [ 27. 105.  20. 166.]\n",
      " [ 28. 102.  26. 164.]\n",
      " [ 27.  90.  26. 168.]\n",
      " [ 21. 106.  31. 142.]\n",
      " [ 20. 108.  26. 144.]\n",
      " [ 20. 102.  19. 149.]\n",
      " [ 21. 109.  31. 191.]\n",
      " [ 27.  88.  25. 195.]]\n"
     ]
    }
   ],
   "source": [
    "print(X)"
   ]
  },
  {
   "cell_type": "markdown",
   "metadata": {},
   "source": [
    "Let's generate the labels"
   ]
  },
  {
   "cell_type": "code",
   "execution_count": 7,
   "metadata": {},
   "outputs": [
    {
     "name": "stdout",
     "output_type": "stream",
     "text": [
      "[ 1.  1. -1.  1. -1. -1.  1.  1. -1.  1.  1.  1.  1. -1. -1.  1.  1.  1.\n",
      " -1.  1.  1. -1.  1.  1.  1. -1.  1. -1. -1. -1.  1. -1. -1. -1. -1.  1.\n",
      "  1.  1.  1. -1.]\n"
     ]
    }
   ],
   "source": [
    "print(Y)"
   ]
  },
  {
   "cell_type": "markdown",
   "metadata": {},
   "source": [
    "# The real-world starts here"
   ]
  },
  {
   "cell_type": "markdown",
   "metadata": {},
   "source": [
    "Let's split the data into 2 parts: a training set to learn a model, and a test set to test our model."
   ]
  },
  {
   "cell_type": "code",
   "execution_count": 8,
   "metadata": {},
   "outputs": [
    {
     "name": "stdout",
     "output_type": "stream",
     "text": [
      "[[ 20. 107.  25. 176.]\n",
      " [ 20.  93.  25. 192.]\n",
      " [ 27.  97.  28. 191.]\n",
      " [ 22.  82.  26. 171.]\n",
      " [ 25.  84.  21. 200.]\n",
      " [ 25.  82.  24. 195.]\n",
      " [ 22. 102.  24. 166.]\n",
      " [ 24.  96.  25. 151.]\n",
      " [ 24. 103.  20. 169.]\n",
      " [ 23. 108.  27. 164.]\n",
      " [ 20.  80.  21. 148.]\n",
      " [ 23.  99.  26. 163.]\n",
      " [ 23. 100.  28. 175.]\n",
      " [ 27. 107.  25. 144.]\n",
      " [ 25. 112.  20. 193.]\n",
      " [ 23. 106.  21. 142.]\n",
      " [ 20. 111.  22. 192.]\n",
      " [ 21.  85.  20. 164.]\n",
      " [ 25.  89.  19. 201.]\n",
      " [ 21. 108.  20. 191.]]\n",
      "[ 1.  1. -1.  1. -1. -1.  1.  1. -1.  1.  1.  1.  1. -1. -1.  1.  1.  1.\n",
      " -1.  1.]\n",
      "[[ 23. 102.  24. 166.]\n",
      " [ 27.  95.  28. 157.]\n",
      " [ 22.  91.  31. 147.]\n",
      " [ 24. 109.  22. 150.]\n",
      " [ 22.  91.  25. 189.]\n",
      " [ 25. 100.  24. 154.]\n",
      " [ 20.  82.  23. 197.]\n",
      " [ 25.  95.  19. 156.]\n",
      " [ 27. 105.  27. 150.]\n",
      " [ 26. 111.  28. 197.]\n",
      " [ 23.  97.  26. 170.]\n",
      " [ 27.  84.  20. 171.]\n",
      " [ 27. 105.  20. 166.]\n",
      " [ 28. 102.  26. 164.]\n",
      " [ 27.  90.  26. 168.]\n",
      " [ 21. 106.  31. 142.]\n",
      " [ 20. 108.  26. 144.]\n",
      " [ 20. 102.  19. 149.]\n",
      " [ 21. 109.  31. 191.]\n",
      " [ 27.  88.  25. 195.]]\n",
      "[ 1. -1.  1.  1.  1. -1.  1. -1. -1. -1.  1. -1. -1. -1. -1.  1.  1.  1.\n",
      "  1. -1.]\n"
     ]
    }
   ],
   "source": [
    "X_train = X[0:20,:]\n",
    "Y_train = Y[0:20]\n",
    "print(X_train)\n",
    "print(Y_train)\n",
    "X_test = X[20:,:]\n",
    "Y_test = Y[20:]\n",
    "print(X_test)\n",
    "print(Y_test)"
   ]
  },
  {
   "cell_type": "markdown",
   "metadata": {},
   "source": [
    "Now let's use a ML method to \"learn\" a function to predict the label from the data we have!"
   ]
  },
  {
   "cell_type": "code",
   "execution_count": 9,
   "metadata": {},
   "outputs": [],
   "source": [
    "clf = LogisticRegression().fit(X_train, Y_train)"
   ]
  },
  {
   "cell_type": "markdown",
   "metadata": {},
   "source": [
    "Let's see how we do on the data we already have"
   ]
  },
  {
   "cell_type": "code",
   "execution_count": 10,
   "metadata": {},
   "outputs": [
    {
     "data": {
      "text/plain": [
       "1.0"
      ]
     },
     "execution_count": 10,
     "metadata": {},
     "output_type": "execute_result"
    }
   ],
   "source": [
    "#this reports the fraction of students on which our model makes the right prediction\n",
    "clf.score(X_train,Y_train)"
   ]
  },
  {
   "cell_type": "markdown",
   "metadata": {},
   "source": [
    "But this was easy, after all this is the data we have already seen! What about data that we have not seen?"
   ]
  },
  {
   "cell_type": "code",
   "execution_count": 11,
   "metadata": {},
   "outputs": [
    {
     "name": "stdout",
     "output_type": "stream",
     "text": [
      "True label of student_new_1: 1.0\n",
      "Predicted label of student_new_1: [1.]\n",
      "True label of student_new_2: -1.0\n",
      "Predicted label of student_new_2: [-1.]\n"
     ]
    }
   ],
   "source": [
    "student_new_1 = [24, 106, 29, 161]\n",
    "label_new_1 = get_true_label(student_new_1)\n",
    "print(\"True label of student_new_1:\",label_new_1)\n",
    "predicted_label_new_1 = clf.predict([student_new_1])\n",
    "print(\"Predicted label of student_new_1:\",predicted_label_new_1)\n",
    "student_new_2 = [32, 104, 24, 191]\n",
    "label_new_2 = get_true_label(student_new_2)\n",
    "print(\"True label of student_new_2:\",label_new_2)\n",
    "predicted_label_new_2 = clf.predict([student_new_2])\n",
    "print(\"Predicted label of student_new_2:\",predicted_label_new_2)"
   ]
  },
  {
   "cell_type": "markdown",
   "metadata": {},
   "source": [
    "Let's see how we do on the test set!"
   ]
  },
  {
   "cell_type": "code",
   "execution_count": 12,
   "metadata": {},
   "outputs": [
    {
     "name": "stdout",
     "output_type": "stream",
     "text": [
      "Accuracy on test data:  0.95\n"
     ]
    }
   ],
   "source": [
    "#this reports the fraction of students on which our model makes the right prediction\n",
    "accuracy_test = clf.score(X_test,Y_test)\n",
    "\n",
    "print(\"Accuracy on test data: \",accuracy_test)"
   ]
  },
  {
   "cell_type": "code",
   "execution_count": null,
   "metadata": {},
   "outputs": [],
   "source": []
  },
  {
   "cell_type": "code",
   "execution_count": null,
   "metadata": {},
   "outputs": [],
   "source": []
  }
 ],
 "metadata": {
  "anaconda-cloud": {},
  "kernelspec": {
   "display_name": "Python 3 (ipykernel)",
   "language": "python",
   "name": "python3"
  },
  "language_info": {
   "codemirror_mode": {
    "name": "ipython",
    "version": 3
   },
   "file_extension": ".py",
   "mimetype": "text/x-python",
   "name": "python",
   "nbconvert_exporter": "python",
   "pygments_lexer": "ipython3",
   "version": "3.8.3"
  }
 },
 "nbformat": 4,
 "nbformat_minor": 4
}
