{
 "cells": [
  {
   "cell_type": "code",
   "execution_count": 8,
   "metadata": {},
   "outputs": [],
   "source": [
    "import numpy as np\n",
    "import sklearn as sk"
   ]
  },
  {
   "cell_type": "markdown",
   "metadata": {},
   "source": [
    "Let's fix how many hypotheses we have"
   ]
  },
  {
   "cell_type": "code",
   "execution_count": 9,
   "metadata": {},
   "outputs": [],
   "source": [
    "num_hypotheses = 100"
   ]
  },
  {
   "cell_type": "markdown",
   "metadata": {},
   "source": [
    "Let's fix a random seed."
   ]
  },
  {
   "cell_type": "code",
   "execution_count": 10,
   "metadata": {},
   "outputs": [],
   "source": [
    "np.random.seed(30)"
   ]
  },
  {
   "cell_type": "markdown",
   "metadata": {},
   "source": [
    "Let's assign a generalization error to each of our hypotheses."
   ]
  },
  {
   "cell_type": "code",
   "execution_count": 20,
   "metadata": {},
   "outputs": [
    {
     "name": "stdout",
     "output_type": "stream",
     "text": [
      "gen_errors:  [0.59297709 0.33882932 0.77764034 0.42472565 0.38972627 0.37008772\n",
      " 0.56046874 0.73634378 0.29523944 0.61988254 1.14164346 1.01640572\n",
      " 0.75276495 0.66139895 0.42184708 0.44268802 0.49502484 0.8391465\n",
      " 0.31682601 1.17349741 0.72298659 1.04392394 0.83334633 0.35583211\n",
      " 0.48931213 0.38709994 0.87733934 0.28445127 1.18369467 0.59546507\n",
      " 0.47659465 0.57712762 0.68392043 0.37329616 0.23972886 0.49687858\n",
      " 1.19443237 0.69535079 0.46660979 0.48665338 0.24043533 1.10310424\n",
      " 0.30562415 0.48490879 0.72725989 0.4274621  0.23100141 0.33599709\n",
      " 0.54523447 0.53340087 0.8213974  1.01332511 0.66610785 0.4794901\n",
      " 0.30759413 0.99992502 0.81219835 1.01685772 0.58716864 0.65370042\n",
      " 0.88137337 0.6701448  0.64911937 0.79637051 0.36562871 0.71321122\n",
      " 0.72527025 0.97629391 1.09674944 0.71153568 0.24996796 0.30919788\n",
      " 0.62526883 0.47751055 0.51936371 0.884479   1.04836802 0.49444333\n",
      " 0.56396781 0.86362995 1.02179938 0.49142138 0.32590458 0.73879519\n",
      " 0.63902122 0.64341285 0.74716173 0.86218117 0.85583096 0.47605421\n",
      " 0.64226962 0.55321132 0.92639653 0.9106168  0.84483028 0.37284628\n",
      " 0.366429   0.39796587 1.18691821 1.08486526]\n"
     ]
    }
   ],
   "source": [
    "gen_errors = np.random.rand(num_hypotheses)+0.2*np.ones(num_hypotheses)\n",
    "print(\"gen_errors: \", gen_errors)"
   ]
  },
  {
   "cell_type": "markdown",
   "metadata": {},
   "source": [
    "Now let's see how they perform on random samples"
   ]
  },
  {
   "cell_type": "code",
   "execution_count": 24,
   "metadata": {},
   "outputs": [
    {
     "name": "stdout",
     "output_type": "stream",
     "text": [
      "num_samples_vector:  [10. 10. 10. 10. 10. 10. 10. 10. 10. 10. 10. 10. 10. 10. 10. 10. 10. 10.\n",
      " 10. 10. 10. 10. 10. 10. 10. 10. 10. 10. 10. 10. 10. 10. 10. 10. 10. 10.\n",
      " 10. 10. 10. 10. 10. 10. 10. 10. 10. 10. 10. 10. 10. 10. 10. 10. 10. 10.\n",
      " 10. 10. 10. 10. 10. 10. 10. 10. 10. 10. 10. 10. 10. 10. 10. 10. 10. 10.\n",
      " 10. 10. 10. 10. 10. 10. 10. 10. 10. 10. 10. 10. 10. 10. 10. 10. 10. 10.\n",
      " 10. 10. 10. 10. 10. 10. 10. 10. 10. 10.]\n",
      "outcomes[0] 0.7\n",
      "outcomes[1] 0.4\n",
      "outcomes[2] 0.9\n",
      "outcomes[3] 0.4\n",
      "outcomes[4] 0.6\n",
      "outcomes[5] 0.3\n",
      "outcomes[6] 0.8\n",
      "outcomes[7] 0.9\n",
      "outcomes[8] 0.3\n",
      "outcomes[9] 0.6\n",
      "outcomes[10] 1.0\n",
      "outcomes[11] 1.0\n",
      "outcomes[12] 0.4\n",
      "outcomes[13] 0.5\n",
      "outcomes[14] 0.3\n",
      "outcomes[15] 0.6\n",
      "outcomes[16] 0.8\n",
      "outcomes[17] 0.9\n",
      "outcomes[18] 0.2\n",
      "outcomes[19] 1.0\n",
      "outcomes[20] 0.8\n",
      "outcomes[21] 1.0\n",
      "outcomes[22] 0.7\n",
      "outcomes[23] 0.1\n",
      "outcomes[24] 0.7\n",
      "outcomes[25] 0.3\n",
      "outcomes[26] 0.8\n",
      "outcomes[27] 0.4\n",
      "outcomes[28] 1.0\n",
      "outcomes[29] 0.6\n",
      "outcomes[30] 0.5\n",
      "outcomes[31] 0.5\n",
      "outcomes[32] 0.9\n",
      "outcomes[33] 0.4\n",
      "outcomes[34] 0.0\n",
      "outcomes[35] 0.4\n",
      "outcomes[36] 1.0\n",
      "outcomes[37] 0.8\n",
      "outcomes[38] 0.3\n",
      "outcomes[39] 0.2\n",
      "outcomes[40] 0.0\n",
      "outcomes[41] 1.0\n",
      "outcomes[42] 0.3\n",
      "outcomes[43] 0.6\n",
      "outcomes[44] 0.8\n",
      "outcomes[45] 0.5\n",
      "outcomes[46] 0.2\n",
      "outcomes[47] 0.4\n",
      "outcomes[48] 0.7\n",
      "outcomes[49] 0.4\n",
      "outcomes[50] 0.7\n",
      "outcomes[51] 1.0\n",
      "outcomes[52] 0.8\n",
      "outcomes[53] 0.3\n",
      "outcomes[54] 0.3\n",
      "outcomes[55] 1.0\n",
      "outcomes[56] 0.7\n",
      "outcomes[57] 1.0\n",
      "outcomes[58] 0.8\n",
      "outcomes[59] 0.6\n",
      "outcomes[60] 0.8\n",
      "outcomes[61] 0.6\n",
      "outcomes[62] 0.6\n",
      "outcomes[63] 0.7\n",
      "outcomes[64] 0.6\n",
      "outcomes[65] 0.7\n",
      "outcomes[66] 0.9\n",
      "outcomes[67] 1.0\n",
      "outcomes[68] 1.0\n",
      "outcomes[69] 0.8\n",
      "outcomes[70] 0.2\n",
      "outcomes[71] 0.4\n",
      "outcomes[72] 0.6\n",
      "outcomes[73] 0.5\n",
      "outcomes[74] 0.5\n",
      "outcomes[75] 0.9\n",
      "outcomes[76] 1.0\n",
      "outcomes[77] 0.7\n",
      "outcomes[78] 0.3\n",
      "outcomes[79] 0.9\n",
      "outcomes[80] 1.0\n",
      "outcomes[81] 0.4\n",
      "outcomes[82] 0.5\n",
      "outcomes[83] 0.7\n",
      "outcomes[84] 0.5\n",
      "outcomes[85] 0.8\n",
      "outcomes[86] 0.8\n",
      "outcomes[87] 1.0\n",
      "outcomes[88] 0.8\n",
      "outcomes[89] 0.6\n",
      "outcomes[90] 0.5\n",
      "outcomes[91] 0.6\n",
      "outcomes[92] 0.9\n",
      "outcomes[93] 1.0\n",
      "outcomes[94] 0.6\n",
      "outcomes[95] 0.8\n",
      "outcomes[96] 0.3\n",
      "outcomes[97] 0.4\n",
      "outcomes[98] 1.0\n",
      "outcomes[99] 1.0\n",
      "Best training error: 0.0\n",
      "Index of ERM hypothesis: 34\n"
     ]
    }
   ],
   "source": [
    "num_samples = 10\n",
    "num_samples_vector = num_samples*np.ones(num_hypotheses) # each hypothesis has num_samples\n",
    "\n",
    "for i in range(len(num_samples_vector)):\n",
    "    num_samples_vector[i] = int(num_samples_vector[i])\n",
    "    \n",
    "print(\"num_samples_vector: \", num_samples_vector)\n",
    "\n",
    "outcomes = np.zeros(num_hypotheses)\n",
    "\n",
    "ERM_hyp = -1\n",
    "minimum_ER = 1.\n",
    "for i in range(len(num_samples_vector)): # i is index of ERM_hyp\n",
    "    # outcomes[i] is training error of ith hypothesis\n",
    "    outcomes[i] = np.random.binomial(num_samples_vector[i], min(gen_errors[i],1.0))/num_samples\n",
    "    print(\"outcomes[\" + str(i) + \"]\", outcomes[i])\n",
    "    if (outcomes[i] < minimum_ER):\n",
    "        minimum_ER = outcomes[i]\n",
    "        ERM_hyp = i\n",
    "    \n",
    "\n",
    "#see what is the best training error\n",
    "print(\"Best training error: \"+str(minimum_ER))\n",
    "print(\"Index of ERM hypothesis: \"+str(ERM_hyp))"
   ]
  },
  {
   "cell_type": "code",
   "execution_count": 18,
   "metadata": {},
   "outputs": [
    {
     "name": "stdout",
     "output_type": "stream",
     "text": [
      "Best generalization error: 0.23100141357789467\n"
     ]
    }
   ],
   "source": [
    "print(\"Best generalization error: \"+str(min(gen_errors)))"
   ]
  },
  {
   "cell_type": "code",
   "execution_count": 19,
   "metadata": {},
   "outputs": [
    {
     "name": "stdout",
     "output_type": "stream",
     "text": [
      "Generalization error of ERM hypothesis: 0.2241547698548721\n"
     ]
    }
   ],
   "source": [
    "print(\"Generalization error of ERM hypothesis: \"+str(gen_errors[ERM_hyp]))"
   ]
  },
  {
   "cell_type": "code",
   "execution_count": null,
   "metadata": {},
   "outputs": [],
   "source": []
  },
  {
   "cell_type": "code",
   "execution_count": null,
   "metadata": {},
   "outputs": [],
   "source": []
  }
 ],
 "metadata": {
  "kernelspec": {
   "display_name": "Python 3 (ipykernel)",
   "language": "python",
   "name": "python3"
  },
  "language_info": {
   "codemirror_mode": {
    "name": "ipython",
    "version": 3
   },
   "file_extension": ".py",
   "mimetype": "text/x-python",
   "name": "python",
   "nbconvert_exporter": "python",
   "pygments_lexer": "ipython3",
   "version": "3.11.6"
  }
 },
 "nbformat": 4,
 "nbformat_minor": 4
}
